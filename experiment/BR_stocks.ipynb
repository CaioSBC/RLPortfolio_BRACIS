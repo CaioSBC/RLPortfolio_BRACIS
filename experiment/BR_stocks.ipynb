{
 "cells": [
  {
   "cell_type": "code",
   "execution_count": 1,
   "metadata": {},
   "outputs": [],
   "source": [
    "import torch\n",
    "import pandas as pd\n",
    "\n",
    "from rl_portfolio.environment import PortfolioOptimizationEnv\n",
    "from rl_portfolio.algorithm import PolicyGradient\n",
    "from rl_portfolio.architecture import EI3\n",
    "\n",
    "from finrl.meta.preprocessor.yahoodownloader import YahooDownloader\n",
    "\n",
    "import logging\n",
    "logging.getLogger('matplotlib.font_manager').disabled = True\n",
    "\n",
    "device = 'cuda:0' if torch.cuda.is_available() else 'cpu'"
   ]
  },
  {
   "cell_type": "code",
   "execution_count": 2,
   "metadata": {},
   "outputs": [
    {
     "name": "stderr",
     "output_type": "stream",
     "text": [
      "[*********************100%%**********************]  1 of 1 completed\n",
      "[*********************100%%**********************]  1 of 1 completed\n",
      "[*********************100%%**********************]  1 of 1 completed\n",
      "[*********************100%%**********************]  1 of 1 completed\n",
      "[*********************100%%**********************]  1 of 1 completed\n",
      "[*********************100%%**********************]  1 of 1 completed\n",
      "[*********************100%%**********************]  1 of 1 completed\n",
      "[*********************100%%**********************]  1 of 1 completed\n",
      "[*********************100%%**********************]  1 of 1 completed\n",
      "[*********************100%%**********************]  1 of 1 completed\n"
     ]
    },
    {
     "name": "stdout",
     "output_type": "stream",
     "text": [
      "Shape of DataFrame:  (29780, 8)\n"
     ]
    },
    {
     "data": {
      "text/html": [
       "<div>\n",
       "<style scoped>\n",
       "    .dataframe tbody tr th:only-of-type {\n",
       "        vertical-align: middle;\n",
       "    }\n",
       "\n",
       "    .dataframe tbody tr th {\n",
       "        vertical-align: top;\n",
       "    }\n",
       "\n",
       "    .dataframe thead th {\n",
       "        text-align: right;\n",
       "    }\n",
       "</style>\n",
       "<table border=\"1\" class=\"dataframe\">\n",
       "  <thead>\n",
       "    <tr style=\"text-align: right;\">\n",
       "      <th></th>\n",
       "      <th>date</th>\n",
       "      <th>open</th>\n",
       "      <th>high</th>\n",
       "      <th>low</th>\n",
       "      <th>close</th>\n",
       "      <th>volume</th>\n",
       "      <th>tic</th>\n",
       "      <th>day</th>\n",
       "    </tr>\n",
       "  </thead>\n",
       "  <tbody>\n",
       "    <tr>\n",
       "      <th>0</th>\n",
       "      <td>2011-01-03</td>\n",
       "      <td>8.632311</td>\n",
       "      <td>8.728203</td>\n",
       "      <td>8.630313</td>\n",
       "      <td>5.265025</td>\n",
       "      <td>576145</td>\n",
       "      <td>ABEV3.SA</td>\n",
       "      <td>0</td>\n",
       "    </tr>\n",
       "    <tr>\n",
       "      <th>1</th>\n",
       "      <td>2011-01-03</td>\n",
       "      <td>15.750000</td>\n",
       "      <td>15.900000</td>\n",
       "      <td>15.690000</td>\n",
       "      <td>6.708954</td>\n",
       "      <td>6626800</td>\n",
       "      <td>BBAS3.SA</td>\n",
       "      <td>0</td>\n",
       "    </tr>\n",
       "    <tr>\n",
       "      <th>2</th>\n",
       "      <td>2011-01-03</td>\n",
       "      <td>11.809763</td>\n",
       "      <td>11.927362</td>\n",
       "      <td>11.724237</td>\n",
       "      <td>6.678930</td>\n",
       "      <td>10862336</td>\n",
       "      <td>BBDC4.SA</td>\n",
       "      <td>0</td>\n",
       "    </tr>\n",
       "    <tr>\n",
       "      <th>3</th>\n",
       "      <td>2011-01-03</td>\n",
       "      <td>18.031555</td>\n",
       "      <td>18.250118</td>\n",
       "      <td>17.963253</td>\n",
       "      <td>10.160485</td>\n",
       "      <td>10014663</td>\n",
       "      <td>ITUB4.SA</td>\n",
       "      <td>0</td>\n",
       "    </tr>\n",
       "    <tr>\n",
       "      <th>4</th>\n",
       "      <td>2011-01-03</td>\n",
       "      <td>8.422694</td>\n",
       "      <td>8.629907</td>\n",
       "      <td>8.422694</td>\n",
       "      <td>6.294306</td>\n",
       "      <td>3652542</td>\n",
       "      <td>LREN3.SA</td>\n",
       "      <td>0</td>\n",
       "    </tr>\n",
       "    <tr>\n",
       "      <th>...</th>\n",
       "      <td>...</td>\n",
       "      <td>...</td>\n",
       "      <td>...</td>\n",
       "      <td>...</td>\n",
       "      <td>...</td>\n",
       "      <td>...</td>\n",
       "      <td>...</td>\n",
       "      <td>...</td>\n",
       "    </tr>\n",
       "    <tr>\n",
       "      <th>29775</th>\n",
       "      <td>2022-12-29</td>\n",
       "      <td>24.990000</td>\n",
       "      <td>25.049999</td>\n",
       "      <td>24.430000</td>\n",
       "      <td>17.640100</td>\n",
       "      <td>57901800</td>\n",
       "      <td>PETR4.SA</td>\n",
       "      <td>3</td>\n",
       "    </tr>\n",
       "    <tr>\n",
       "      <th>29776</th>\n",
       "      <td>2022-12-29</td>\n",
       "      <td>37.250000</td>\n",
       "      <td>37.480000</td>\n",
       "      <td>36.619999</td>\n",
       "      <td>37.150330</td>\n",
       "      <td>7890300</td>\n",
       "      <td>PRIO3.SA</td>\n",
       "      <td>3</td>\n",
       "    </tr>\n",
       "    <tr>\n",
       "      <th>29777</th>\n",
       "      <td>2022-12-29</td>\n",
       "      <td>54.300869</td>\n",
       "      <td>55.776001</td>\n",
       "      <td>52.626392</td>\n",
       "      <td>51.326015</td>\n",
       "      <td>8786791</td>\n",
       "      <td>RENT3.SA</td>\n",
       "      <td>3</td>\n",
       "    </tr>\n",
       "    <tr>\n",
       "      <th>29778</th>\n",
       "      <td>2022-12-29</td>\n",
       "      <td>89.000000</td>\n",
       "      <td>89.949997</td>\n",
       "      <td>88.830002</td>\n",
       "      <td>80.014053</td>\n",
       "      <td>40110800</td>\n",
       "      <td>VALE3.SA</td>\n",
       "      <td>3</td>\n",
       "    </tr>\n",
       "    <tr>\n",
       "      <th>29779</th>\n",
       "      <td>2022-12-29</td>\n",
       "      <td>38.840000</td>\n",
       "      <td>38.990002</td>\n",
       "      <td>38.250000</td>\n",
       "      <td>37.525448</td>\n",
       "      <td>6444500</td>\n",
       "      <td>WEGE3.SA</td>\n",
       "      <td>3</td>\n",
       "    </tr>\n",
       "  </tbody>\n",
       "</table>\n",
       "<p>29780 rows × 8 columns</p>\n",
       "</div>"
      ],
      "text/plain": [
       "             date       open       high        low      close    volume  \\\n",
       "0      2011-01-03   8.632311   8.728203   8.630313   5.265025    576145   \n",
       "1      2011-01-03  15.750000  15.900000  15.690000   6.708954   6626800   \n",
       "2      2011-01-03  11.809763  11.927362  11.724237   6.678930  10862336   \n",
       "3      2011-01-03  18.031555  18.250118  17.963253  10.160485  10014663   \n",
       "4      2011-01-03   8.422694   8.629907   8.422694   6.294306   3652542   \n",
       "...           ...        ...        ...        ...        ...       ...   \n",
       "29775  2022-12-29  24.990000  25.049999  24.430000  17.640100  57901800   \n",
       "29776  2022-12-29  37.250000  37.480000  36.619999  37.150330   7890300   \n",
       "29777  2022-12-29  54.300869  55.776001  52.626392  51.326015   8786791   \n",
       "29778  2022-12-29  89.000000  89.949997  88.830002  80.014053  40110800   \n",
       "29779  2022-12-29  38.840000  38.990002  38.250000  37.525448   6444500   \n",
       "\n",
       "            tic  day  \n",
       "0      ABEV3.SA    0  \n",
       "1      BBAS3.SA    0  \n",
       "2      BBDC4.SA    0  \n",
       "3      ITUB4.SA    0  \n",
       "4      LREN3.SA    0  \n",
       "...         ...  ...  \n",
       "29775  PETR4.SA    3  \n",
       "29776  PRIO3.SA    3  \n",
       "29777  RENT3.SA    3  \n",
       "29778  VALE3.SA    3  \n",
       "29779  WEGE3.SA    3  \n",
       "\n",
       "[29780 rows x 8 columns]"
      ]
     },
     "execution_count": 2,
     "metadata": {},
     "output_type": "execute_result"
    }
   ],
   "source": [
    "TOP_BRL = [\n",
    "    \"VALE3.SA\", \"PETR4.SA\", \"ITUB4.SA\", \"BBDC4.SA\",\n",
    "    \"BBAS3.SA\", \"RENT3.SA\", \"LREN3.SA\", \"PRIO3.SA\",\n",
    "    \"WEGE3.SA\", \"ABEV3.SA\"\n",
    "]\n",
    "\n",
    "TOP_NASDAQ = [\n",
    "    \"AAPL\", \"MU\", \"CSCO\", \"MSFT\", \"META\", \"QQQ\",\n",
    "    \"CMCSA\", \"INTC\", \"HBAN\", \"NVDA\"\n",
    "]\n",
    "\n",
    "bovespa_temporal = YahooDownloader(start_date = '2011-01-01',\n",
    "                                end_date = '2022-12-31',\n",
    "                                ticker_list = TOP_BRL).fetch_data()\n",
    "bovespa_temporal"
   ]
  },
  {
   "cell_type": "code",
   "execution_count": 3,
   "metadata": {},
   "outputs": [
    {
     "data": {
      "text/html": [
       "<div>\n",
       "<style scoped>\n",
       "    .dataframe tbody tr th:only-of-type {\n",
       "        vertical-align: middle;\n",
       "    }\n",
       "\n",
       "    .dataframe tbody tr th {\n",
       "        vertical-align: top;\n",
       "    }\n",
       "\n",
       "    .dataframe thead th {\n",
       "        text-align: right;\n",
       "    }\n",
       "</style>\n",
       "<table border=\"1\" class=\"dataframe\">\n",
       "  <thead>\n",
       "    <tr style=\"text-align: right;\">\n",
       "      <th></th>\n",
       "      <th>date</th>\n",
       "      <th>tic</th>\n",
       "      <th>close</th>\n",
       "      <th>high</th>\n",
       "      <th>low</th>\n",
       "    </tr>\n",
       "  </thead>\n",
       "  <tbody>\n",
       "    <tr>\n",
       "      <th>0</th>\n",
       "      <td>2011-01-03</td>\n",
       "      <td>ABEV3.SA</td>\n",
       "      <td>0.272027</td>\n",
       "      <td>0.355383</td>\n",
       "      <td>0.359147</td>\n",
       "    </tr>\n",
       "    <tr>\n",
       "      <th>1</th>\n",
       "      <td>2011-01-03</td>\n",
       "      <td>BBAS3.SA</td>\n",
       "      <td>0.327830</td>\n",
       "      <td>0.568771</td>\n",
       "      <td>0.572419</td>\n",
       "    </tr>\n",
       "    <tr>\n",
       "      <th>2</th>\n",
       "      <td>2011-01-03</td>\n",
       "      <td>BBDC4.SA</td>\n",
       "      <td>0.287841</td>\n",
       "      <td>0.397479</td>\n",
       "      <td>0.399922</td>\n",
       "    </tr>\n",
       "    <tr>\n",
       "      <th>3</th>\n",
       "      <td>2011-01-03</td>\n",
       "      <td>ITUB4.SA</td>\n",
       "      <td>0.322621</td>\n",
       "      <td>0.458661</td>\n",
       "      <td>0.467793</td>\n",
       "    </tr>\n",
       "    <tr>\n",
       "      <th>4</th>\n",
       "      <td>2011-01-03</td>\n",
       "      <td>LREN3.SA</td>\n",
       "      <td>0.127001</td>\n",
       "      <td>0.157120</td>\n",
       "      <td>0.155466</td>\n",
       "    </tr>\n",
       "    <tr>\n",
       "      <th>...</th>\n",
       "      <td>...</td>\n",
       "      <td>...</td>\n",
       "      <td>...</td>\n",
       "      <td>...</td>\n",
       "      <td>...</td>\n",
       "    </tr>\n",
       "    <tr>\n",
       "      <th>29775</th>\n",
       "      <td>2022-12-29</td>\n",
       "      <td>PETR4.SA</td>\n",
       "      <td>0.694899</td>\n",
       "      <td>0.652514</td>\n",
       "      <td>0.662958</td>\n",
       "    </tr>\n",
       "    <tr>\n",
       "      <th>29776</th>\n",
       "      <td>2022-12-29</td>\n",
       "      <td>PRIO3.SA</td>\n",
       "      <td>0.857373</td>\n",
       "      <td>0.844144</td>\n",
       "      <td>0.878173</td>\n",
       "    </tr>\n",
       "    <tr>\n",
       "      <th>29777</th>\n",
       "      <td>2022-12-29</td>\n",
       "      <td>RENT3.SA</td>\n",
       "      <td>0.728887</td>\n",
       "      <td>0.754746</td>\n",
       "      <td>0.727218</td>\n",
       "    </tr>\n",
       "    <tr>\n",
       "      <th>29778</th>\n",
       "      <td>2022-12-29</td>\n",
       "      <td>VALE3.SA</td>\n",
       "      <td>0.916710</td>\n",
       "      <td>0.746783</td>\n",
       "      <td>0.770759</td>\n",
       "    </tr>\n",
       "    <tr>\n",
       "      <th>29779</th>\n",
       "      <td>2022-12-29</td>\n",
       "      <td>WEGE3.SA</td>\n",
       "      <td>0.859932</td>\n",
       "      <td>0.830812</td>\n",
       "      <td>0.853795</td>\n",
       "    </tr>\n",
       "  </tbody>\n",
       "</table>\n",
       "<p>29780 rows × 5 columns</p>\n",
       "</div>"
      ],
      "text/plain": [
       "             date       tic     close      high       low\n",
       "0      2011-01-03  ABEV3.SA  0.272027  0.355383  0.359147\n",
       "1      2011-01-03  BBAS3.SA  0.327830  0.568771  0.572419\n",
       "2      2011-01-03  BBDC4.SA  0.287841  0.397479  0.399922\n",
       "3      2011-01-03  ITUB4.SA  0.322621  0.458661  0.467793\n",
       "4      2011-01-03  LREN3.SA  0.127001  0.157120  0.155466\n",
       "...           ...       ...       ...       ...       ...\n",
       "29775  2022-12-29  PETR4.SA  0.694899  0.652514  0.662958\n",
       "29776  2022-12-29  PRIO3.SA  0.857373  0.844144  0.878173\n",
       "29777  2022-12-29  RENT3.SA  0.728887  0.754746  0.727218\n",
       "29778  2022-12-29  VALE3.SA  0.916710  0.746783  0.770759\n",
       "29779  2022-12-29  WEGE3.SA  0.859932  0.830812  0.853795\n",
       "\n",
       "[29780 rows x 5 columns]"
      ]
     },
     "execution_count": 3,
     "metadata": {},
     "output_type": "execute_result"
    }
   ],
   "source": [
    "from rl_portfolio.data import GroupByScaler\n",
    "\n",
    "df_portfolio = bovespa_temporal[[\"date\", \"tic\", \"close\", \"high\", \"low\"]]\n",
    "\n",
    "df_portfolio = GroupByScaler(columns = [\"close\", \"high\", \"low\"], by=\"tic\").fit_transform(df_portfolio)\n",
    "\n",
    "df_portfolio"
   ]
  },
  {
   "cell_type": "code",
   "execution_count": 4,
   "metadata": {},
   "outputs": [],
   "source": [
    "df_portfolio_train = df_portfolio[(df_portfolio[\"date\"] >= \"2011-01-01\") & (df_portfolio[\"date\"] < \"2019-12-31\")]\n",
    "df_portfolio_test = df_portfolio[(df_portfolio[\"date\"] >= \"2019-10-16\") & (df_portfolio[\"date\"] < \"2020-12-31\")]\n",
    "\n",
    "environment_train = PortfolioOptimizationEnv(\n",
    "        df_portfolio_train,\n",
    "        initial_amount=100000,\n",
    "        state_normalization=\"by_last_close\",\n",
    "        comission_fee_pct=0.0025,\n",
    "        time_window=50,\n",
    "        time_format=\"%Y-%m-%d\",\n",
    "        features=[\"close\", \"high\", \"low\"],\n",
    "        print_metrics=False,\n",
    "        plot_graphs=False,\n",
    "        # comission_fee_model=\"trf_approx\"\n",
    "    )\n",
    "\n",
    "environment_test = PortfolioOptimizationEnv(\n",
    "        df_portfolio_test,\n",
    "        initial_amount=100000,\n",
    "        state_normalization=\"by_last_close\",\n",
    "        comission_fee_pct=0.0025,\n",
    "        time_window=50,\n",
    "        time_format=\"%Y-%m-%d\",\n",
    "        features=[\"close\", \"high\", \"low\"],\n",
    "        print_metrics=True,\n",
    "        plot_graphs=True,\n",
    "    )"
   ]
  },
  {
   "cell_type": "code",
   "execution_count": 5,
   "metadata": {},
   "outputs": [],
   "source": [
    "algo = PolicyGradient(\n",
    "    environment_train,\n",
    "    # policy=EI3,\n",
    "    validation_env=environment_test,\n",
    "    sample_bias=0.5,\n",
    "    batch_size=200,\n",
    "    lr=5e-5,\n",
    "    # parameter_noise=0.01,\n",
    "    use_tensorboard=True,\n",
    "    device=device\n",
    ")"
   ]
  },
  {
   "cell_type": "code",
   "execution_count": 6,
   "metadata": {},
   "outputs": [
    {
     "name": "stderr",
     "output_type": "stream",
     "text": [
      "  1%|          | 1/120 [00:27<55:24, 27.94s/it]"
     ]
    },
    {
     "name": "stdout",
     "output_type": "stream",
     "text": [
      "=================================\n",
      "Initial portfolio value:100000\n",
      "Final portfolio value: 130531.015625\n",
      "Final accumulative portfolio value: 1.30531015625\n",
      "Maximum DrawDown: -0.5393334263433038\n",
      "Sharpe ratio: 0.04756379578968361\n",
      "=================================\n"
     ]
    },
    {
     "name": "stderr",
     "output_type": "stream",
     "text": [
      "  2%|▏         | 2/120 [00:55<54:21, 27.64s/it]"
     ]
    },
    {
     "name": "stdout",
     "output_type": "stream",
     "text": [
      "=================================\n",
      "Initial portfolio value:100000\n",
      "Final portfolio value: 141445.71875\n",
      "Final accumulative portfolio value: 1.4144571875\n",
      "Maximum DrawDown: -0.5882864265062817\n",
      "Sharpe ratio: 0.05433248682797744\n",
      "=================================\n"
     ]
    },
    {
     "name": "stderr",
     "output_type": "stream",
     "text": [
      "  2%|▎         | 3/120 [01:22<53:31, 27.45s/it]"
     ]
    },
    {
     "name": "stdout",
     "output_type": "stream",
     "text": [
      "=================================\n",
      "Initial portfolio value:100000\n",
      "Final portfolio value: 145495.53125\n",
      "Final accumulative portfolio value: 1.4549553125\n",
      "Maximum DrawDown: -0.6157127831639104\n",
      "Sharpe ratio: 0.05614000005143445\n",
      "=================================\n"
     ]
    },
    {
     "name": "stderr",
     "output_type": "stream",
     "text": [
      "  3%|▎         | 4/120 [01:49<53:01, 27.43s/it]"
     ]
    },
    {
     "name": "stdout",
     "output_type": "stream",
     "text": [
      "=================================\n",
      "Initial portfolio value:100000\n",
      "Final portfolio value: 146271.5625\n",
      "Final accumulative portfolio value: 1.462715625\n",
      "Maximum DrawDown: -0.6182120918093604\n",
      "Sharpe ratio: 0.056526544121985524\n",
      "=================================\n"
     ]
    },
    {
     "name": "stderr",
     "output_type": "stream",
     "text": [
      "  4%|▍         | 5/120 [02:17<52:27, 27.37s/it]"
     ]
    },
    {
     "name": "stdout",
     "output_type": "stream",
     "text": [
      "=================================\n",
      "Initial portfolio value:100000\n",
      "Final portfolio value: 147302.546875\n",
      "Final accumulative portfolio value: 1.47302546875\n",
      "Maximum DrawDown: -0.6163793179257363\n",
      "Sharpe ratio: 0.0571912080393823\n",
      "=================================\n"
     ]
    },
    {
     "name": "stderr",
     "output_type": "stream",
     "text": [
      "  5%|▌         | 6/120 [02:44<52:06, 27.43s/it]"
     ]
    },
    {
     "name": "stdout",
     "output_type": "stream",
     "text": [
      "=================================\n",
      "Initial portfolio value:100000\n",
      "Final portfolio value: 148246.375\n",
      "Final accumulative portfolio value: 1.48246375\n",
      "Maximum DrawDown: -0.6141320816797553\n",
      "Sharpe ratio: 0.057832765006314464\n",
      "=================================\n"
     ]
    },
    {
     "name": "stderr",
     "output_type": "stream",
     "text": [
      "  6%|▌         | 7/120 [03:11<51:10, 27.18s/it]"
     ]
    },
    {
     "name": "stdout",
     "output_type": "stream",
     "text": [
      "=================================\n",
      "Initial portfolio value:100000\n",
      "Final portfolio value: 148971.734375\n",
      "Final accumulative portfolio value: 1.48971734375\n",
      "Maximum DrawDown: -0.6118454226945644\n",
      "Sharpe ratio: 0.058366721319525125\n",
      "=================================\n"
     ]
    },
    {
     "name": "stderr",
     "output_type": "stream",
     "text": [
      "  7%|▋         | 8/120 [03:38<50:23, 26.99s/it]"
     ]
    },
    {
     "name": "stdout",
     "output_type": "stream",
     "text": [
      "=================================\n",
      "Initial portfolio value:100000\n",
      "Final portfolio value: 149399.96875\n",
      "Final accumulative portfolio value: 1.4939996875\n",
      "Maximum DrawDown: -0.6093917027719864\n",
      "Sharpe ratio: 0.05875747742842196\n",
      "=================================\n"
     ]
    },
    {
     "name": "stderr",
     "output_type": "stream",
     "text": [
      "  8%|▊         | 9/120 [04:05<50:23, 27.24s/it]"
     ]
    },
    {
     "name": "stdout",
     "output_type": "stream",
     "text": [
      "=================================\n",
      "Initial portfolio value:100000\n",
      "Final portfolio value: 149313.359375\n",
      "Final accumulative portfolio value: 1.49313359375\n",
      "Maximum DrawDown: -0.6071172885020184\n",
      "Sharpe ratio: 0.05886164164660352\n",
      "=================================\n"
     ]
    },
    {
     "name": "stderr",
     "output_type": "stream",
     "text": [
      "  8%|▊         | 10/120 [04:33<50:04, 27.31s/it]"
     ]
    },
    {
     "name": "stdout",
     "output_type": "stream",
     "text": [
      "=================================\n",
      "Initial portfolio value:100000\n",
      "Final portfolio value: 148530.265625\n",
      "Final accumulative portfolio value: 1.48530265625\n",
      "Maximum DrawDown: -0.6047976630479897\n",
      "Sharpe ratio: 0.058565459078685746\n",
      "=================================\n"
     ]
    },
    {
     "name": "stderr",
     "output_type": "stream",
     "text": [
      "  9%|▉         | 11/120 [05:00<49:45, 27.39s/it]"
     ]
    },
    {
     "name": "stdout",
     "output_type": "stream",
     "text": [
      "=================================\n",
      "Initial portfolio value:100000\n",
      "Final portfolio value: 147262.125\n",
      "Final accumulative portfolio value: 1.47262125\n",
      "Maximum DrawDown: -0.6030617563618133\n",
      "Sharpe ratio: 0.057947104586582296\n",
      "=================================\n"
     ]
    },
    {
     "name": "stderr",
     "output_type": "stream",
     "text": [
      " 10%|█         | 12/120 [05:28<49:11, 27.33s/it]"
     ]
    },
    {
     "name": "stdout",
     "output_type": "stream",
     "text": [
      "=================================\n",
      "Initial portfolio value:100000\n",
      "Final portfolio value: 145203.484375\n",
      "Final accumulative portfolio value: 1.45203484375\n",
      "Maximum DrawDown: -0.6017845631054013\n",
      "Sharpe ratio: 0.0568042110706591\n",
      "=================================\n"
     ]
    },
    {
     "name": "stderr",
     "output_type": "stream",
     "text": [
      " 11%|█         | 13/120 [05:55<48:37, 27.26s/it]"
     ]
    },
    {
     "name": "stdout",
     "output_type": "stream",
     "text": [
      "=================================\n",
      "Initial portfolio value:100000\n",
      "Final portfolio value: 142546.75\n",
      "Final accumulative portfolio value: 1.4254675\n",
      "Maximum DrawDown: -0.6008773980787863\n",
      "Sharpe ratio: 0.05520860432225002\n",
      "=================================\n"
     ]
    },
    {
     "name": "stderr",
     "output_type": "stream",
     "text": [
      " 12%|█▏        | 14/120 [06:22<48:04, 27.21s/it]"
     ]
    },
    {
     "name": "stdout",
     "output_type": "stream",
     "text": [
      "=================================\n",
      "Initial portfolio value:100000\n",
      "Final portfolio value: 136087.5\n",
      "Final accumulative portfolio value: 1.360875\n",
      "Maximum DrawDown: -0.586563227692989\n",
      "Sharpe ratio: 0.051079329912430194\n",
      "=================================\n"
     ]
    },
    {
     "name": "stderr",
     "output_type": "stream",
     "text": [
      " 12%|█▎        | 15/120 [06:49<47:46, 27.30s/it]"
     ]
    },
    {
     "name": "stdout",
     "output_type": "stream",
     "text": [
      "=================================\n",
      "Initial portfolio value:100000\n",
      "Final portfolio value: 134919.359375\n",
      "Final accumulative portfolio value: 1.34919359375\n",
      "Maximum DrawDown: -0.5928034561489837\n",
      "Sharpe ratio: 0.05020809976478699\n",
      "=================================\n"
     ]
    },
    {
     "name": "stderr",
     "output_type": "stream",
     "text": [
      " 13%|█▎        | 16/120 [07:17<47:20, 27.32s/it]"
     ]
    },
    {
     "name": "stdout",
     "output_type": "stream",
     "text": [
      "=================================\n",
      "Initial portfolio value:100000\n",
      "Final portfolio value: 133256.78125\n",
      "Final accumulative portfolio value: 1.3325678125\n",
      "Maximum DrawDown: -0.5943199547116371\n",
      "Sharpe ratio: 0.0490356552722063\n",
      "=================================\n"
     ]
    },
    {
     "name": "stderr",
     "output_type": "stream",
     "text": [
      " 14%|█▍        | 17/120 [07:45<47:13, 27.51s/it]"
     ]
    },
    {
     "name": "stdout",
     "output_type": "stream",
     "text": [
      "=================================\n",
      "Initial portfolio value:100000\n",
      "Final portfolio value: 137743.0\n",
      "Final accumulative portfolio value: 1.37743\n",
      "Maximum DrawDown: -0.5872526599375625\n",
      "Sharpe ratio: 0.05219182325235118\n",
      "=================================\n"
     ]
    },
    {
     "name": "stderr",
     "output_type": "stream",
     "text": [
      " 15%|█▌        | 18/120 [08:11<46:23, 27.29s/it]"
     ]
    },
    {
     "name": "stdout",
     "output_type": "stream",
     "text": [
      "=================================\n",
      "Initial portfolio value:100000\n",
      "Final portfolio value: 141629.1875\n",
      "Final accumulative portfolio value: 1.416291875\n",
      "Maximum DrawDown: -0.573864864563888\n",
      "Sharpe ratio: 0.05489161398851623\n",
      "=================================\n"
     ]
    },
    {
     "name": "stderr",
     "output_type": "stream",
     "text": [
      " 16%|█▌        | 19/120 [08:37<45:19, 26.93s/it]"
     ]
    },
    {
     "name": "stdout",
     "output_type": "stream",
     "text": [
      "=================================\n",
      "Initial portfolio value:100000\n",
      "Final portfolio value: 139528.59375\n",
      "Final accumulative portfolio value: 1.3952859375\n",
      "Maximum DrawDown: -0.5665941824664158\n",
      "Sharpe ratio: 0.05344780807899067\n",
      "=================================\n"
     ]
    },
    {
     "name": "stderr",
     "output_type": "stream",
     "text": [
      " 17%|█▋        | 20/120 [09:04<44:35, 26.75s/it]"
     ]
    },
    {
     "name": "stdout",
     "output_type": "stream",
     "text": [
      "=================================\n",
      "Initial portfolio value:100000\n",
      "Final portfolio value: 140939.96875\n",
      "Final accumulative portfolio value: 1.4093996875\n",
      "Maximum DrawDown: -0.5578741037233408\n",
      "Sharpe ratio: 0.05456618549770444\n",
      "=================================\n"
     ]
    },
    {
     "name": "stderr",
     "output_type": "stream",
     "text": [
      " 18%|█▊        | 21/120 [09:31<44:14, 26.81s/it]"
     ]
    },
    {
     "name": "stdout",
     "output_type": "stream",
     "text": [
      "=================================\n",
      "Initial portfolio value:100000\n",
      "Final portfolio value: 145772.046875\n",
      "Final accumulative portfolio value: 1.45772046875\n",
      "Maximum DrawDown: -0.5500539281291972\n",
      "Sharpe ratio: 0.05776112320262657\n",
      "=================================\n"
     ]
    },
    {
     "name": "stderr",
     "output_type": "stream",
     "text": [
      " 18%|█▊        | 22/120 [09:57<43:35, 26.69s/it]"
     ]
    },
    {
     "name": "stdout",
     "output_type": "stream",
     "text": [
      "=================================\n",
      "Initial portfolio value:100000\n",
      "Final portfolio value: 141829.71875\n",
      "Final accumulative portfolio value: 1.4182971875\n",
      "Maximum DrawDown: -0.5508409534143189\n",
      "Sharpe ratio: 0.054961100987154274\n",
      "=================================\n"
     ]
    },
    {
     "name": "stderr",
     "output_type": "stream",
     "text": [
      " 19%|█▉        | 23/120 [10:24<43:00, 26.60s/it]"
     ]
    },
    {
     "name": "stdout",
     "output_type": "stream",
     "text": [
      "=================================\n",
      "Initial portfolio value:100000\n",
      "Final portfolio value: 139700.1875\n",
      "Final accumulative portfolio value: 1.397001875\n",
      "Maximum DrawDown: -0.5537458907572568\n",
      "Sharpe ratio: 0.05341995062685832\n",
      "=================================\n"
     ]
    },
    {
     "name": "stderr",
     "output_type": "stream",
     "text": [
      " 20%|██        | 24/120 [10:50<42:35, 26.62s/it]"
     ]
    },
    {
     "name": "stdout",
     "output_type": "stream",
     "text": [
      "=================================\n",
      "Initial portfolio value:100000\n",
      "Final portfolio value: 134088.453125\n",
      "Final accumulative portfolio value: 1.34088453125\n",
      "Maximum DrawDown: -0.550630053960685\n",
      "Sharpe ratio: 0.049564694754931374\n",
      "=================================\n"
     ]
    },
    {
     "name": "stderr",
     "output_type": "stream",
     "text": [
      " 21%|██        | 25/120 [11:17<42:07, 26.60s/it]"
     ]
    },
    {
     "name": "stdout",
     "output_type": "stream",
     "text": [
      "=================================\n",
      "Initial portfolio value:100000\n",
      "Final portfolio value: 122746.5234375\n",
      "Final accumulative portfolio value: 1.227465234375\n",
      "Maximum DrawDown: -0.5663653250396807\n",
      "Sharpe ratio: 0.041189996094745815\n",
      "=================================\n"
     ]
    },
    {
     "name": "stderr",
     "output_type": "stream",
     "text": [
      " 22%|██▏       | 26/120 [11:44<41:44, 26.64s/it]"
     ]
    },
    {
     "name": "stdout",
     "output_type": "stream",
     "text": [
      "=================================\n",
      "Initial portfolio value:100000\n",
      "Final portfolio value: 135453.328125\n",
      "Final accumulative portfolio value: 1.35453328125\n",
      "Maximum DrawDown: -0.5112726861158301\n",
      "Sharpe ratio: 0.05080998470311421\n",
      "=================================\n"
     ]
    },
    {
     "name": "stderr",
     "output_type": "stream",
     "text": [
      " 22%|██▎       | 27/120 [12:10<41:11, 26.58s/it]"
     ]
    },
    {
     "name": "stdout",
     "output_type": "stream",
     "text": [
      "=================================\n",
      "Initial portfolio value:100000\n",
      "Final portfolio value: 143566.859375\n",
      "Final accumulative portfolio value: 1.43566859375\n",
      "Maximum DrawDown: -0.48615098124432576\n",
      "Sharpe ratio: 0.05768056697538146\n",
      "=================================\n"
     ]
    },
    {
     "name": "stderr",
     "output_type": "stream",
     "text": [
      " 23%|██▎       | 28/120 [12:37<40:48, 26.62s/it]"
     ]
    },
    {
     "name": "stdout",
     "output_type": "stream",
     "text": [
      "=================================\n",
      "Initial portfolio value:100000\n",
      "Final portfolio value: 157047.546875\n",
      "Final accumulative portfolio value: 1.57047546875\n",
      "Maximum DrawDown: -0.47812934262127693\n",
      "Sharpe ratio: 0.06608987790146936\n",
      "=================================\n"
     ]
    },
    {
     "name": "stderr",
     "output_type": "stream",
     "text": [
      " 24%|██▍       | 29/120 [13:03<40:26, 26.67s/it]"
     ]
    },
    {
     "name": "stdout",
     "output_type": "stream",
     "text": [
      "=================================\n",
      "Initial portfolio value:100000\n",
      "Final portfolio value: 164906.140625\n",
      "Final accumulative portfolio value: 1.64906140625\n",
      "Maximum DrawDown: -0.45841118026604777\n",
      "Sharpe ratio: 0.0710012786142107\n",
      "=================================\n"
     ]
    },
    {
     "name": "stderr",
     "output_type": "stream",
     "text": [
      " 25%|██▌       | 30/120 [13:30<39:52, 26.58s/it]"
     ]
    },
    {
     "name": "stdout",
     "output_type": "stream",
     "text": [
      "=================================\n",
      "Initial portfolio value:100000\n",
      "Final portfolio value: 148887.328125\n",
      "Final accumulative portfolio value: 1.48887328125\n",
      "Maximum DrawDown: -0.47539268965060943\n",
      "Sharpe ratio: 0.06187854893274832\n",
      "=================================\n"
     ]
    },
    {
     "name": "stderr",
     "output_type": "stream",
     "text": [
      " 26%|██▌       | 31/120 [13:56<39:26, 26.59s/it]"
     ]
    },
    {
     "name": "stdout",
     "output_type": "stream",
     "text": [
      "=================================\n",
      "Initial portfolio value:100000\n",
      "Final portfolio value: 149208.625\n",
      "Final accumulative portfolio value: 1.49208625\n",
      "Maximum DrawDown: -0.505636578912444\n",
      "Sharpe ratio: 0.061927724221576864\n",
      "=================================\n"
     ]
    },
    {
     "name": "stderr",
     "output_type": "stream",
     "text": [
      " 27%|██▋       | 32/120 [14:23<39:07, 26.68s/it]"
     ]
    },
    {
     "name": "stdout",
     "output_type": "stream",
     "text": [
      "=================================\n",
      "Initial portfolio value:100000\n",
      "Final portfolio value: 149365.78125\n",
      "Final accumulative portfolio value: 1.4936578125\n",
      "Maximum DrawDown: -0.5240834025426435\n",
      "Sharpe ratio: 0.06130506931726316\n",
      "=================================\n"
     ]
    },
    {
     "name": "stderr",
     "output_type": "stream",
     "text": [
      " 28%|██▊       | 33/120 [14:50<38:53, 26.82s/it]"
     ]
    },
    {
     "name": "stdout",
     "output_type": "stream",
     "text": [
      "=================================\n",
      "Initial portfolio value:100000\n",
      "Final portfolio value: 154155.09375\n",
      "Final accumulative portfolio value: 1.5415509375\n",
      "Maximum DrawDown: -0.5201702308722382\n",
      "Sharpe ratio: 0.06505492590388777\n",
      "=================================\n"
     ]
    },
    {
     "name": "stderr",
     "output_type": "stream",
     "text": [
      " 28%|██▊       | 34/120 [15:17<38:24, 26.79s/it]"
     ]
    },
    {
     "name": "stdout",
     "output_type": "stream",
     "text": [
      "=================================\n",
      "Initial portfolio value:100000\n",
      "Final portfolio value: 164839.15625\n",
      "Final accumulative portfolio value: 1.6483915625\n",
      "Maximum DrawDown: -0.5290172476951649\n",
      "Sharpe ratio: 0.07135210990008803\n",
      "=================================\n"
     ]
    },
    {
     "name": "stderr",
     "output_type": "stream",
     "text": [
      " 29%|██▉       | 35/120 [15:45<38:12, 26.97s/it]"
     ]
    },
    {
     "name": "stdout",
     "output_type": "stream",
     "text": [
      "=================================\n",
      "Initial portfolio value:100000\n",
      "Final portfolio value: 166634.765625\n",
      "Final accumulative portfolio value: 1.66634765625\n",
      "Maximum DrawDown: -0.5282686691949199\n",
      "Sharpe ratio: 0.07214935637750172\n",
      "=================================\n"
     ]
    },
    {
     "name": "stderr",
     "output_type": "stream",
     "text": [
      " 30%|███       | 36/120 [16:11<37:34, 26.84s/it]"
     ]
    },
    {
     "name": "stdout",
     "output_type": "stream",
     "text": [
      "=================================\n",
      "Initial portfolio value:100000\n",
      "Final portfolio value: 195787.0\n",
      "Final accumulative portfolio value: 1.95787\n",
      "Maximum DrawDown: -0.5245640599955382\n",
      "Sharpe ratio: 0.08698021330908229\n",
      "=================================\n"
     ]
    },
    {
     "name": "stderr",
     "output_type": "stream",
     "text": [
      " 31%|███       | 37/120 [16:38<36:56, 26.71s/it]"
     ]
    },
    {
     "name": "stdout",
     "output_type": "stream",
     "text": [
      "=================================\n",
      "Initial portfolio value:100000\n",
      "Final portfolio value: 198907.203125\n",
      "Final accumulative portfolio value: 1.98907203125\n",
      "Maximum DrawDown: -0.5185941607973368\n",
      "Sharpe ratio: 0.08686199782121068\n",
      "=================================\n"
     ]
    },
    {
     "name": "stderr",
     "output_type": "stream",
     "text": [
      " 32%|███▏      | 38/120 [17:05<36:37, 26.80s/it]"
     ]
    },
    {
     "name": "stdout",
     "output_type": "stream",
     "text": [
      "=================================\n",
      "Initial portfolio value:100000\n",
      "Final portfolio value: 217228.421875\n",
      "Final accumulative portfolio value: 2.17228421875\n",
      "Maximum DrawDown: -0.5148028735762007\n",
      "Sharpe ratio: 0.09490714215269132\n",
      "=================================\n"
     ]
    },
    {
     "name": "stderr",
     "output_type": "stream",
     "text": [
      " 32%|███▎      | 39/120 [17:32<36:31, 27.06s/it]"
     ]
    },
    {
     "name": "stdout",
     "output_type": "stream",
     "text": [
      "=================================\n",
      "Initial portfolio value:100000\n",
      "Final portfolio value: 211424.40625\n",
      "Final accumulative portfolio value: 2.1142440625\n",
      "Maximum DrawDown: -0.515668586566056\n",
      "Sharpe ratio: 0.0917493789098288\n",
      "=================================\n"
     ]
    },
    {
     "name": "stderr",
     "output_type": "stream",
     "text": [
      " 33%|███▎      | 40/120 [17:59<35:58, 26.98s/it]"
     ]
    },
    {
     "name": "stdout",
     "output_type": "stream",
     "text": [
      "=================================\n",
      "Initial portfolio value:100000\n",
      "Final portfolio value: 211406.4375\n",
      "Final accumulative portfolio value: 2.114064375\n",
      "Maximum DrawDown: -0.512885222320322\n",
      "Sharpe ratio: 0.09166947303478234\n",
      "=================================\n"
     ]
    },
    {
     "name": "stderr",
     "output_type": "stream",
     "text": [
      " 34%|███▍      | 41/120 [18:27<35:46, 27.17s/it]"
     ]
    },
    {
     "name": "stdout",
     "output_type": "stream",
     "text": [
      "=================================\n",
      "Initial portfolio value:100000\n",
      "Final portfolio value: 218594.40625\n",
      "Final accumulative portfolio value: 2.1859440625\n",
      "Maximum DrawDown: -0.5086760340415774\n",
      "Sharpe ratio: 0.09477625480426764\n",
      "=================================\n"
     ]
    },
    {
     "name": "stderr",
     "output_type": "stream",
     "text": [
      " 35%|███▌      | 42/120 [18:53<35:13, 27.09s/it]"
     ]
    },
    {
     "name": "stdout",
     "output_type": "stream",
     "text": [
      "=================================\n",
      "Initial portfolio value:100000\n",
      "Final portfolio value: 228087.765625\n",
      "Final accumulative portfolio value: 2.28087765625\n",
      "Maximum DrawDown: -0.5040001632411982\n",
      "Sharpe ratio: 0.09876922031601199\n",
      "=================================\n"
     ]
    },
    {
     "name": "stderr",
     "output_type": "stream",
     "text": [
      " 36%|███▌      | 43/120 [19:21<34:44, 27.07s/it]"
     ]
    },
    {
     "name": "stdout",
     "output_type": "stream",
     "text": [
      "=================================\n",
      "Initial portfolio value:100000\n",
      "Final portfolio value: 237996.171875\n",
      "Final accumulative portfolio value: 2.37996171875\n",
      "Maximum DrawDown: -0.4991623274758893\n",
      "Sharpe ratio: 0.10273466742181367\n",
      "=================================\n"
     ]
    },
    {
     "name": "stderr",
     "output_type": "stream",
     "text": [
      " 37%|███▋      | 44/120 [19:47<33:58, 26.82s/it]"
     ]
    },
    {
     "name": "stdout",
     "output_type": "stream",
     "text": [
      "=================================\n",
      "Initial portfolio value:100000\n",
      "Final portfolio value: 242252.625\n",
      "Final accumulative portfolio value: 2.42252625\n",
      "Maximum DrawDown: -0.496151520724741\n",
      "Sharpe ratio: 0.10446798961605146\n",
      "=================================\n"
     ]
    },
    {
     "name": "stderr",
     "output_type": "stream",
     "text": [
      " 38%|███▊      | 45/120 [20:13<33:27, 26.77s/it]"
     ]
    },
    {
     "name": "stdout",
     "output_type": "stream",
     "text": [
      "=================================\n",
      "Initial portfolio value:100000\n",
      "Final portfolio value: 248916.484375\n",
      "Final accumulative portfolio value: 2.48916484375\n",
      "Maximum DrawDown: -0.4935950960980876\n",
      "Sharpe ratio: 0.10696291560013171\n",
      "=================================\n"
     ]
    },
    {
     "name": "stderr",
     "output_type": "stream",
     "text": [
      " 38%|███▊      | 46/120 [20:40<32:53, 26.67s/it]"
     ]
    },
    {
     "name": "stdout",
     "output_type": "stream",
     "text": [
      "=================================\n",
      "Initial portfolio value:100000\n",
      "Final portfolio value: 252104.640625\n",
      "Final accumulative portfolio value: 2.52104640625\n",
      "Maximum DrawDown: -0.48887807778182146\n",
      "Sharpe ratio: 0.10804010420218446\n",
      "=================================\n"
     ]
    },
    {
     "name": "stderr",
     "output_type": "stream",
     "text": [
      " 39%|███▉      | 47/120 [21:06<32:22, 26.61s/it]"
     ]
    },
    {
     "name": "stdout",
     "output_type": "stream",
     "text": [
      "=================================\n",
      "Initial portfolio value:100000\n",
      "Final portfolio value: 247947.3125\n",
      "Final accumulative portfolio value: 2.479473125\n",
      "Maximum DrawDown: -0.4882601303673263\n",
      "Sharpe ratio: 0.1062050213737488\n",
      "=================================\n"
     ]
    },
    {
     "name": "stderr",
     "output_type": "stream",
     "text": [
      " 40%|████      | 48/120 [21:34<32:13, 26.85s/it]"
     ]
    },
    {
     "name": "stdout",
     "output_type": "stream",
     "text": [
      "=================================\n",
      "Initial portfolio value:100000\n",
      "Final portfolio value: 247980.078125\n",
      "Final accumulative portfolio value: 2.47980078125\n",
      "Maximum DrawDown: -0.4870674543763852\n",
      "Sharpe ratio: 0.10610543827259071\n",
      "=================================\n"
     ]
    },
    {
     "name": "stderr",
     "output_type": "stream",
     "text": [
      " 41%|████      | 49/120 [22:01<31:57, 27.01s/it]"
     ]
    },
    {
     "name": "stdout",
     "output_type": "stream",
     "text": [
      "=================================\n",
      "Initial portfolio value:100000\n",
      "Final portfolio value: 259110.265625\n",
      "Final accumulative portfolio value: 2.59110265625\n",
      "Maximum DrawDown: -0.48198127599001084\n",
      "Sharpe ratio: 0.10985627364781583\n",
      "=================================\n"
     ]
    },
    {
     "name": "stderr",
     "output_type": "stream",
     "text": [
      " 42%|████▏     | 50/120 [22:28<31:26, 26.94s/it]"
     ]
    },
    {
     "name": "stdout",
     "output_type": "stream",
     "text": [
      "=================================\n",
      "Initial portfolio value:100000\n",
      "Final portfolio value: 256451.0\n",
      "Final accumulative portfolio value: 2.56451\n",
      "Maximum DrawDown: -0.4817963165980873\n",
      "Sharpe ratio: 0.10905012175351285\n",
      "=================================\n"
     ]
    },
    {
     "name": "stderr",
     "output_type": "stream",
     "text": [
      " 42%|████▎     | 51/120 [22:54<30:45, 26.75s/it]"
     ]
    },
    {
     "name": "stdout",
     "output_type": "stream",
     "text": [
      "=================================\n",
      "Initial portfolio value:100000\n",
      "Final portfolio value: 259236.734375\n",
      "Final accumulative portfolio value: 2.59236734375\n",
      "Maximum DrawDown: -0.47625453683769314\n",
      "Sharpe ratio: 0.11032434403263067\n",
      "=================================\n"
     ]
    },
    {
     "name": "stderr",
     "output_type": "stream",
     "text": [
      " 43%|████▎     | 52/120 [23:21<30:23, 26.81s/it]"
     ]
    },
    {
     "name": "stdout",
     "output_type": "stream",
     "text": [
      "=================================\n",
      "Initial portfolio value:100000\n",
      "Final portfolio value: 266489.03125\n",
      "Final accumulative portfolio value: 2.6648903125\n",
      "Maximum DrawDown: -0.4658624578432269\n",
      "Sharpe ratio: 0.1125675932499294\n",
      "=================================\n"
     ]
    },
    {
     "name": "stderr",
     "output_type": "stream",
     "text": [
      " 44%|████▍     | 53/120 [23:48<29:57, 26.83s/it]"
     ]
    },
    {
     "name": "stdout",
     "output_type": "stream",
     "text": [
      "=================================\n",
      "Initial portfolio value:100000\n",
      "Final portfolio value: 271418.9375\n",
      "Final accumulative portfolio value: 2.714189375\n",
      "Maximum DrawDown: -0.4667413772852652\n",
      "Sharpe ratio: 0.11351553110202658\n",
      "=================================\n"
     ]
    },
    {
     "name": "stderr",
     "output_type": "stream",
     "text": [
      " 45%|████▌     | 54/120 [24:15<29:23, 26.73s/it]"
     ]
    },
    {
     "name": "stdout",
     "output_type": "stream",
     "text": [
      "=================================\n",
      "Initial portfolio value:100000\n",
      "Final portfolio value: 278463.9375\n",
      "Final accumulative portfolio value: 2.784639375\n",
      "Maximum DrawDown: -0.46020078603471026\n",
      "Sharpe ratio: 0.11549832922931776\n",
      "=================================\n"
     ]
    },
    {
     "name": "stderr",
     "output_type": "stream",
     "text": [
      " 46%|████▌     | 55/120 [24:42<29:05, 26.86s/it]"
     ]
    },
    {
     "name": "stdout",
     "output_type": "stream",
     "text": [
      "=================================\n",
      "Initial portfolio value:100000\n",
      "Final portfolio value: 290571.59375\n",
      "Final accumulative portfolio value: 2.9057159375\n",
      "Maximum DrawDown: -0.4581038437842295\n",
      "Sharpe ratio: 0.12032661059888536\n",
      "=================================\n"
     ]
    },
    {
     "name": "stderr",
     "output_type": "stream",
     "text": [
      " 47%|████▋     | 56/120 [25:09<28:41, 26.89s/it]"
     ]
    },
    {
     "name": "stdout",
     "output_type": "stream",
     "text": [
      "=================================\n",
      "Initial portfolio value:100000\n",
      "Final portfolio value: 284605.125\n",
      "Final accumulative portfolio value: 2.84605125\n",
      "Maximum DrawDown: -0.45841042499981444\n",
      "Sharpe ratio: 0.11722723405597758\n",
      "=================================\n"
     ]
    },
    {
     "name": "stderr",
     "output_type": "stream",
     "text": [
      " 48%|████▊     | 57/120 [25:36<28:17, 26.95s/it]"
     ]
    },
    {
     "name": "stdout",
     "output_type": "stream",
     "text": [
      "=================================\n",
      "Initial portfolio value:100000\n",
      "Final portfolio value: 283280.59375\n",
      "Final accumulative portfolio value: 2.8328059375\n",
      "Maximum DrawDown: -0.45703311597853935\n",
      "Sharpe ratio: 0.11676049114729818\n",
      "=================================\n"
     ]
    },
    {
     "name": "stderr",
     "output_type": "stream",
     "text": [
      " 48%|████▊     | 58/120 [26:03<28:00, 27.11s/it]"
     ]
    },
    {
     "name": "stdout",
     "output_type": "stream",
     "text": [
      "=================================\n",
      "Initial portfolio value:100000\n",
      "Final portfolio value: 221286.734375\n",
      "Final accumulative portfolio value: 2.21286734375\n",
      "Maximum DrawDown: -0.4455145858849071\n",
      "Sharpe ratio: 0.09622743761138243\n",
      "=================================\n"
     ]
    },
    {
     "name": "stderr",
     "output_type": "stream",
     "text": [
      " 49%|████▉     | 59/120 [26:30<27:27, 27.01s/it]"
     ]
    },
    {
     "name": "stdout",
     "output_type": "stream",
     "text": [
      "=================================\n",
      "Initial portfolio value:100000\n",
      "Final portfolio value: 287852.59375\n",
      "Final accumulative portfolio value: 2.8785259375\n",
      "Maximum DrawDown: -0.4774963883855181\n",
      "Sharpe ratio: 0.1147787537527069\n",
      "=================================\n"
     ]
    },
    {
     "name": "stderr",
     "output_type": "stream",
     "text": [
      " 50%|█████     | 60/120 [26:57<26:51, 26.87s/it]"
     ]
    },
    {
     "name": "stdout",
     "output_type": "stream",
     "text": [
      "=================================\n",
      "Initial portfolio value:100000\n",
      "Final portfolio value: 283685.0625\n",
      "Final accumulative portfolio value: 2.836850625\n",
      "Maximum DrawDown: -0.46201609858370274\n",
      "Sharpe ratio: 0.11374904596801733\n",
      "=================================\n"
     ]
    },
    {
     "name": "stderr",
     "output_type": "stream",
     "text": [
      " 51%|█████     | 61/120 [27:23<26:19, 26.78s/it]"
     ]
    },
    {
     "name": "stdout",
     "output_type": "stream",
     "text": [
      "=================================\n",
      "Initial portfolio value:100000\n",
      "Final portfolio value: 283032.9375\n",
      "Final accumulative portfolio value: 2.830329375\n",
      "Maximum DrawDown: -0.4445817094876535\n",
      "Sharpe ratio: 0.1137287781671404\n",
      "=================================\n"
     ]
    },
    {
     "name": "stderr",
     "output_type": "stream",
     "text": [
      " 52%|█████▏    | 62/120 [27:50<25:52, 26.77s/it]"
     ]
    },
    {
     "name": "stdout",
     "output_type": "stream",
     "text": [
      "=================================\n",
      "Initial portfolio value:100000\n",
      "Final portfolio value: 284624.5\n",
      "Final accumulative portfolio value: 2.846245\n",
      "Maximum DrawDown: -0.44357230617800614\n",
      "Sharpe ratio: 0.11356947177283194\n",
      "=================================\n"
     ]
    },
    {
     "name": "stderr",
     "output_type": "stream",
     "text": [
      " 52%|█████▎    | 63/120 [28:17<25:27, 26.80s/it]"
     ]
    },
    {
     "name": "stdout",
     "output_type": "stream",
     "text": [
      "=================================\n",
      "Initial portfolio value:100000\n",
      "Final portfolio value: 294267.9375\n",
      "Final accumulative portfolio value: 2.942679375\n",
      "Maximum DrawDown: -0.41768257352941895\n",
      "Sharpe ratio: 0.11699784135255797\n",
      "=================================\n"
     ]
    },
    {
     "name": "stderr",
     "output_type": "stream",
     "text": [
      " 53%|█████▎    | 64/120 [28:44<25:09, 26.95s/it]"
     ]
    },
    {
     "name": "stdout",
     "output_type": "stream",
     "text": [
      "=================================\n",
      "Initial portfolio value:100000\n",
      "Final portfolio value: 283031.53125\n",
      "Final accumulative portfolio value: 2.8303153125\n",
      "Maximum DrawDown: -0.4440048234394942\n",
      "Sharpe ratio: 0.11618218399291139\n",
      "=================================\n"
     ]
    },
    {
     "name": "stderr",
     "output_type": "stream",
     "text": [
      " 54%|█████▍    | 65/120 [29:11<24:41, 26.94s/it]"
     ]
    },
    {
     "name": "stdout",
     "output_type": "stream",
     "text": [
      "=================================\n",
      "Initial portfolio value:100000\n",
      "Final portfolio value: 257966.078125\n",
      "Final accumulative portfolio value: 2.57966078125\n",
      "Maximum DrawDown: -0.4571754720414736\n",
      "Sharpe ratio: 0.1083650142424884\n",
      "=================================\n"
     ]
    },
    {
     "name": "stderr",
     "output_type": "stream",
     "text": [
      " 55%|█████▌    | 66/120 [29:38<24:12, 26.89s/it]"
     ]
    },
    {
     "name": "stdout",
     "output_type": "stream",
     "text": [
      "=================================\n",
      "Initial portfolio value:100000\n",
      "Final portfolio value: 252333.390625\n",
      "Final accumulative portfolio value: 2.52333390625\n",
      "Maximum DrawDown: -0.4566685361583869\n",
      "Sharpe ratio: 0.10616109645210925\n",
      "=================================\n"
     ]
    },
    {
     "name": "stderr",
     "output_type": "stream",
     "text": [
      " 56%|█████▌    | 67/120 [30:04<23:37, 26.74s/it]"
     ]
    },
    {
     "name": "stdout",
     "output_type": "stream",
     "text": [
      "=================================\n",
      "Initial portfolio value:100000\n",
      "Final portfolio value: 248281.125\n",
      "Final accumulative portfolio value: 2.48281125\n",
      "Maximum DrawDown: -0.45562170803563806\n",
      "Sharpe ratio: 0.10448931390589483\n",
      "=================================\n"
     ]
    },
    {
     "name": "stderr",
     "output_type": "stream",
     "text": [
      " 57%|█████▋    | 68/120 [30:31<23:12, 26.78s/it]"
     ]
    },
    {
     "name": "stdout",
     "output_type": "stream",
     "text": [
      "=================================\n",
      "Initial portfolio value:100000\n",
      "Final portfolio value: 247300.953125\n",
      "Final accumulative portfolio value: 2.47300953125\n",
      "Maximum DrawDown: -0.454569710499249\n",
      "Sharpe ratio: 0.10400527909863348\n",
      "=================================\n"
     ]
    },
    {
     "name": "stderr",
     "output_type": "stream",
     "text": [
      " 57%|█████▊    | 69/120 [30:57<22:41, 26.70s/it]"
     ]
    },
    {
     "name": "stdout",
     "output_type": "stream",
     "text": [
      "=================================\n",
      "Initial portfolio value:100000\n",
      "Final portfolio value: 253738.390625\n",
      "Final accumulative portfolio value: 2.53738390625\n",
      "Maximum DrawDown: -0.453315740720431\n",
      "Sharpe ratio: 0.10632167915441683\n",
      "=================================\n"
     ]
    },
    {
     "name": "stderr",
     "output_type": "stream",
     "text": [
      " 58%|█████▊    | 70/120 [31:24<22:12, 26.64s/it]"
     ]
    },
    {
     "name": "stdout",
     "output_type": "stream",
     "text": [
      "=================================\n",
      "Initial portfolio value:100000\n",
      "Final portfolio value: 259492.84375\n",
      "Final accumulative portfolio value: 2.5949284375\n",
      "Maximum DrawDown: -0.45097775654058914\n",
      "Sharpe ratio: 0.10820089663757006\n",
      "=================================\n"
     ]
    },
    {
     "name": "stderr",
     "output_type": "stream",
     "text": [
      " 59%|█████▉    | 71/120 [31:51<21:57, 26.89s/it]"
     ]
    },
    {
     "name": "stdout",
     "output_type": "stream",
     "text": [
      "=================================\n",
      "Initial portfolio value:100000\n",
      "Final portfolio value: 279637.625\n",
      "Final accumulative portfolio value: 2.79637625\n",
      "Maximum DrawDown: -0.42855696189921144\n",
      "Sharpe ratio: 0.11047550484762694\n",
      "=================================\n"
     ]
    },
    {
     "name": "stderr",
     "output_type": "stream",
     "text": [
      " 60%|██████    | 72/120 [32:18<21:25, 26.78s/it]"
     ]
    },
    {
     "name": "stdout",
     "output_type": "stream",
     "text": [
      "=================================\n",
      "Initial portfolio value:100000\n",
      "Final portfolio value: 277333.5625\n",
      "Final accumulative portfolio value: 2.773335625\n",
      "Maximum DrawDown: -0.4227461374909718\n",
      "Sharpe ratio: 0.1100474220117848\n",
      "=================================\n"
     ]
    },
    {
     "name": "stderr",
     "output_type": "stream",
     "text": [
      " 61%|██████    | 73/120 [32:45<21:03, 26.88s/it]"
     ]
    },
    {
     "name": "stdout",
     "output_type": "stream",
     "text": [
      "=================================\n",
      "Initial portfolio value:100000\n",
      "Final portfolio value: 275351.46875\n",
      "Final accumulative portfolio value: 2.7535146875\n",
      "Maximum DrawDown: -0.42005390877935167\n",
      "Sharpe ratio: 0.10952148551035651\n",
      "=================================\n"
     ]
    },
    {
     "name": "stderr",
     "output_type": "stream",
     "text": [
      " 62%|██████▏   | 74/120 [33:13<20:47, 27.12s/it]"
     ]
    },
    {
     "name": "stdout",
     "output_type": "stream",
     "text": [
      "=================================\n",
      "Initial portfolio value:100000\n",
      "Final portfolio value: 288092.15625\n",
      "Final accumulative portfolio value: 2.8809215625\n",
      "Maximum DrawDown: -0.4082455489540465\n",
      "Sharpe ratio: 0.11397838142649624\n",
      "=================================\n"
     ]
    },
    {
     "name": "stderr",
     "output_type": "stream",
     "text": [
      " 62%|██████▎   | 75/120 [33:40<20:25, 27.23s/it]"
     ]
    },
    {
     "name": "stdout",
     "output_type": "stream",
     "text": [
      "=================================\n",
      "Initial portfolio value:100000\n",
      "Final portfolio value: 291820.75\n",
      "Final accumulative portfolio value: 2.9182075\n",
      "Maximum DrawDown: -0.3997849313892433\n",
      "Sharpe ratio: 0.11532231303350035\n",
      "=================================\n"
     ]
    },
    {
     "name": "stderr",
     "output_type": "stream",
     "text": [
      " 63%|██████▎   | 76/120 [34:08<20:11, 27.53s/it]"
     ]
    },
    {
     "name": "stdout",
     "output_type": "stream",
     "text": [
      "=================================\n",
      "Initial portfolio value:100000\n",
      "Final portfolio value: 292895.59375\n",
      "Final accumulative portfolio value: 2.9289559375\n",
      "Maximum DrawDown: -0.4005387275352059\n",
      "Sharpe ratio: 0.11560933328999257\n",
      "=================================\n"
     ]
    },
    {
     "name": "stderr",
     "output_type": "stream",
     "text": [
      " 64%|██████▍   | 77/120 [34:35<19:36, 27.37s/it]"
     ]
    },
    {
     "name": "stdout",
     "output_type": "stream",
     "text": [
      "=================================\n",
      "Initial portfolio value:100000\n",
      "Final portfolio value: 288564.03125\n",
      "Final accumulative portfolio value: 2.8856403125\n",
      "Maximum DrawDown: -0.4079530895341692\n",
      "Sharpe ratio: 0.11402515789523254\n",
      "=================================\n"
     ]
    },
    {
     "name": "stderr",
     "output_type": "stream",
     "text": [
      " 65%|██████▌   | 78/120 [35:03<19:09, 27.37s/it]"
     ]
    },
    {
     "name": "stdout",
     "output_type": "stream",
     "text": [
      "=================================\n",
      "Initial portfolio value:100000\n",
      "Final portfolio value: 288482.46875\n",
      "Final accumulative portfolio value: 2.8848246875\n",
      "Maximum DrawDown: -0.41252863310478494\n",
      "Sharpe ratio: 0.1137121373588613\n",
      "=================================\n"
     ]
    },
    {
     "name": "stderr",
     "output_type": "stream",
     "text": [
      " 66%|██████▌   | 79/120 [35:31<18:52, 27.63s/it]"
     ]
    },
    {
     "name": "stdout",
     "output_type": "stream",
     "text": [
      "=================================\n",
      "Initial portfolio value:100000\n",
      "Final portfolio value: 292195.78125\n",
      "Final accumulative portfolio value: 2.9219578125\n",
      "Maximum DrawDown: -0.40405761406309504\n",
      "Sharpe ratio: 0.11505162439067614\n",
      "=================================\n"
     ]
    },
    {
     "name": "stderr",
     "output_type": "stream",
     "text": [
      " 67%|██████▋   | 80/120 [35:59<18:24, 27.62s/it]"
     ]
    },
    {
     "name": "stdout",
     "output_type": "stream",
     "text": [
      "=================================\n",
      "Initial portfolio value:100000\n",
      "Final portfolio value: 294747.5625\n",
      "Final accumulative portfolio value: 2.947475625\n",
      "Maximum DrawDown: -0.39972427013779044\n",
      "Sharpe ratio: 0.1159410719031922\n",
      "=================================\n"
     ]
    },
    {
     "name": "stderr",
     "output_type": "stream",
     "text": [
      " 68%|██████▊   | 81/120 [36:27<18:05, 27.83s/it]"
     ]
    },
    {
     "name": "stdout",
     "output_type": "stream",
     "text": [
      "=================================\n",
      "Initial portfolio value:100000\n",
      "Final portfolio value: 293943.9375\n",
      "Final accumulative portfolio value: 2.939439375\n",
      "Maximum DrawDown: -0.4012937916054321\n",
      "Sharpe ratio: 0.11563536560376558\n",
      "=================================\n"
     ]
    },
    {
     "name": "stderr",
     "output_type": "stream",
     "text": [
      " 68%|██████▊   | 82/120 [36:54<17:30, 27.65s/it]"
     ]
    },
    {
     "name": "stdout",
     "output_type": "stream",
     "text": [
      "=================================\n",
      "Initial portfolio value:100000\n",
      "Final portfolio value: 296263.375\n",
      "Final accumulative portfolio value: 2.96263375\n",
      "Maximum DrawDown: -0.394965281312492\n",
      "Sharpe ratio: 0.11651787860067433\n",
      "=================================\n"
     ]
    },
    {
     "name": "stderr",
     "output_type": "stream",
     "text": [
      " 69%|██████▉   | 83/120 [37:22<17:07, 27.76s/it]"
     ]
    },
    {
     "name": "stdout",
     "output_type": "stream",
     "text": [
      "=================================\n",
      "Initial portfolio value:100000\n",
      "Final portfolio value: 294344.84375\n",
      "Final accumulative portfolio value: 2.9434484375\n",
      "Maximum DrawDown: -0.3987104358583823\n",
      "Sharpe ratio: 0.11579085209300884\n",
      "=================================\n"
     ]
    },
    {
     "name": "stderr",
     "output_type": "stream",
     "text": [
      " 70%|███████   | 84/120 [37:50<16:36, 27.68s/it]"
     ]
    },
    {
     "name": "stdout",
     "output_type": "stream",
     "text": [
      "=================================\n",
      "Initial portfolio value:100000\n",
      "Final portfolio value: 290599.75\n",
      "Final accumulative portfolio value: 2.9059975\n",
      "Maximum DrawDown: -0.4047738718654714\n",
      "Sharpe ratio: 0.1143999253973789\n",
      "=================================\n"
     ]
    },
    {
     "name": "stderr",
     "output_type": "stream",
     "text": [
      " 71%|███████   | 85/120 [38:17<16:01, 27.46s/it]"
     ]
    },
    {
     "name": "stdout",
     "output_type": "stream",
     "text": [
      "=================================\n",
      "Initial portfolio value:100000\n",
      "Final portfolio value: 290995.28125\n",
      "Final accumulative portfolio value: 2.9099528125\n",
      "Maximum DrawDown: -0.4024473028740818\n",
      "Sharpe ratio: 0.11452603648936287\n",
      "=================================\n"
     ]
    },
    {
     "name": "stderr",
     "output_type": "stream",
     "text": [
      " 72%|███████▏  | 86/120 [38:45<15:41, 27.68s/it]"
     ]
    },
    {
     "name": "stdout",
     "output_type": "stream",
     "text": [
      "=================================\n",
      "Initial portfolio value:100000\n",
      "Final portfolio value: 289081.8125\n",
      "Final accumulative portfolio value: 2.890818125\n",
      "Maximum DrawDown: -0.4057940618969854\n",
      "Sharpe ratio: 0.11377937647215197\n",
      "=================================\n"
     ]
    },
    {
     "name": "stderr",
     "output_type": "stream",
     "text": [
      " 72%|███████▎  | 87/120 [39:15<15:39, 28.47s/it]"
     ]
    },
    {
     "name": "stdout",
     "output_type": "stream",
     "text": [
      "=================================\n",
      "Initial portfolio value:100000\n",
      "Final portfolio value: 282909.65625\n",
      "Final accumulative portfolio value: 2.8290965625\n",
      "Maximum DrawDown: -0.41494122118237775\n",
      "Sharpe ratio: 0.11154526549680281\n",
      "=================================\n"
     ]
    },
    {
     "name": "stderr",
     "output_type": "stream",
     "text": [
      " 73%|███████▎  | 88/120 [39:46<15:37, 29.30s/it]"
     ]
    },
    {
     "name": "stdout",
     "output_type": "stream",
     "text": [
      "=================================\n",
      "Initial portfolio value:100000\n",
      "Final portfolio value: 287796.21875\n",
      "Final accumulative portfolio value: 2.8779621875\n",
      "Maximum DrawDown: -0.40467690101814746\n",
      "Sharpe ratio: 0.11332372047008087\n",
      "=================================\n"
     ]
    },
    {
     "name": "stderr",
     "output_type": "stream",
     "text": [
      " 74%|███████▍  | 89/120 [40:17<15:20, 29.69s/it]"
     ]
    },
    {
     "name": "stdout",
     "output_type": "stream",
     "text": [
      "=================================\n",
      "Initial portfolio value:100000\n",
      "Final portfolio value: 284084.625\n",
      "Final accumulative portfolio value: 2.84084625\n",
      "Maximum DrawDown: -0.4105185468497542\n",
      "Sharpe ratio: 0.1119757467304493\n",
      "=================================\n"
     ]
    },
    {
     "name": "stderr",
     "output_type": "stream",
     "text": [
      " 75%|███████▌  | 90/120 [40:47<14:55, 29.85s/it]"
     ]
    },
    {
     "name": "stdout",
     "output_type": "stream",
     "text": [
      "=================================\n",
      "Initial portfolio value:100000\n",
      "Final portfolio value: 278575.59375\n",
      "Final accumulative portfolio value: 2.7857559375\n",
      "Maximum DrawDown: -0.4174329139915338\n",
      "Sharpe ratio: 0.1100205653572989\n",
      "=================================\n"
     ]
    },
    {
     "name": "stderr",
     "output_type": "stream",
     "text": [
      " 76%|███████▌  | 91/120 [41:18<14:37, 30.25s/it]"
     ]
    },
    {
     "name": "stdout",
     "output_type": "stream",
     "text": [
      "=================================\n",
      "Initial portfolio value:100000\n",
      "Final portfolio value: 284702.3125\n",
      "Final accumulative portfolio value: 2.847023125\n",
      "Maximum DrawDown: -0.4194724476190004\n",
      "Sharpe ratio: 0.11168634055526076\n",
      "=================================\n"
     ]
    },
    {
     "name": "stderr",
     "output_type": "stream",
     "text": [
      " 77%|███████▋  | 92/120 [41:50<14:14, 30.53s/it]"
     ]
    },
    {
     "name": "stdout",
     "output_type": "stream",
     "text": [
      "=================================\n",
      "Initial portfolio value:100000\n",
      "Final portfolio value: 279304.78125\n",
      "Final accumulative portfolio value: 2.7930478125\n",
      "Maximum DrawDown: -0.41594439864549804\n",
      "Sharpe ratio: 0.11023693796076899\n",
      "=================================\n"
     ]
    },
    {
     "name": "stderr",
     "output_type": "stream",
     "text": [
      " 78%|███████▊  | 93/120 [42:21<13:53, 30.86s/it]"
     ]
    },
    {
     "name": "stdout",
     "output_type": "stream",
     "text": [
      "=================================\n",
      "Initial portfolio value:100000\n",
      "Final portfolio value: 278811.59375\n",
      "Final accumulative portfolio value: 2.7881159375\n",
      "Maximum DrawDown: -0.4262192108071172\n",
      "Sharpe ratio: 0.10986862265310517\n",
      "=================================\n"
     ]
    },
    {
     "name": "stderr",
     "output_type": "stream",
     "text": [
      " 78%|███████▊  | 94/120 [42:52<13:23, 30.90s/it]"
     ]
    },
    {
     "name": "stdout",
     "output_type": "stream",
     "text": [
      "=================================\n",
      "Initial portfolio value:100000\n",
      "Final portfolio value: 279909.125\n",
      "Final accumulative portfolio value: 2.79909125\n",
      "Maximum DrawDown: -0.43797968747132876\n",
      "Sharpe ratio: 0.10990085950200866\n",
      "=================================\n"
     ]
    },
    {
     "name": "stderr",
     "output_type": "stream",
     "text": [
      " 79%|███████▉  | 95/120 [43:22<12:40, 30.41s/it]"
     ]
    },
    {
     "name": "stdout",
     "output_type": "stream",
     "text": [
      "=================================\n",
      "Initial portfolio value:100000\n",
      "Final portfolio value: 279867.875\n",
      "Final accumulative portfolio value: 2.79867875\n",
      "Maximum DrawDown: -0.4474168310434915\n",
      "Sharpe ratio: 0.10969289854692188\n",
      "=================================\n"
     ]
    },
    {
     "name": "stderr",
     "output_type": "stream",
     "text": [
      " 80%|████████  | 96/120 [43:49<11:50, 29.62s/it]"
     ]
    },
    {
     "name": "stdout",
     "output_type": "stream",
     "text": [
      "=================================\n",
      "Initial portfolio value:100000\n",
      "Final portfolio value: 288035.21875\n",
      "Final accumulative portfolio value: 2.8803521875\n",
      "Maximum DrawDown: -0.4471727176903042\n",
      "Sharpe ratio: 0.1121537533451981\n",
      "=================================\n"
     ]
    },
    {
     "name": "stderr",
     "output_type": "stream",
     "text": [
      " 81%|████████  | 97/120 [44:18<11:11, 29.19s/it]"
     ]
    },
    {
     "name": "stdout",
     "output_type": "stream",
     "text": [
      "=================================\n",
      "Initial portfolio value:100000\n",
      "Final portfolio value: 283643.0625\n",
      "Final accumulative portfolio value: 2.836430625\n",
      "Maximum DrawDown: -0.4543497845151462\n",
      "Sharpe ratio: 0.1107331277837483\n",
      "=================================\n"
     ]
    },
    {
     "name": "stderr",
     "output_type": "stream",
     "text": [
      " 82%|████████▏ | 98/120 [44:45<10:34, 28.82s/it]"
     ]
    },
    {
     "name": "stdout",
     "output_type": "stream",
     "text": [
      "=================================\n",
      "Initial portfolio value:100000\n",
      "Final portfolio value: 283805.71875\n",
      "Final accumulative portfolio value: 2.8380571875\n",
      "Maximum DrawDown: -0.4566082666024385\n",
      "Sharpe ratio: 0.11074046200817843\n",
      "=================================\n"
     ]
    },
    {
     "name": "stderr",
     "output_type": "stream",
     "text": [
      " 82%|████████▎ | 99/120 [45:13<09:58, 28.51s/it]"
     ]
    },
    {
     "name": "stdout",
     "output_type": "stream",
     "text": [
      "=================================\n",
      "Initial portfolio value:100000\n",
      "Final portfolio value: 295800.0\n",
      "Final accumulative portfolio value: 2.958\n",
      "Maximum DrawDown: -0.4478766238315953\n",
      "Sharpe ratio: 0.11438278544114168\n",
      "=================================\n"
     ]
    },
    {
     "name": "stderr",
     "output_type": "stream",
     "text": [
      " 83%|████████▎ | 100/120 [45:40<09:19, 27.97s/it]"
     ]
    },
    {
     "name": "stdout",
     "output_type": "stream",
     "text": [
      "=================================\n",
      "Initial portfolio value:100000\n",
      "Final portfolio value: 291291.6875\n",
      "Final accumulative portfolio value: 2.912916875\n",
      "Maximum DrawDown: -0.45596317831567923\n",
      "Sharpe ratio: 0.11290249674568702\n",
      "=================================\n"
     ]
    },
    {
     "name": "stderr",
     "output_type": "stream",
     "text": [
      " 84%|████████▍ | 101/120 [46:07<08:47, 27.74s/it]"
     ]
    },
    {
     "name": "stdout",
     "output_type": "stream",
     "text": [
      "=================================\n",
      "Initial portfolio value:100000\n",
      "Final portfolio value: 283395.78125\n",
      "Final accumulative portfolio value: 2.8339578125\n",
      "Maximum DrawDown: -0.45937734982989065\n",
      "Sharpe ratio: 0.11057642389047342\n",
      "=================================\n"
     ]
    },
    {
     "name": "stderr",
     "output_type": "stream",
     "text": [
      " 85%|████████▌ | 102/120 [46:35<08:21, 27.86s/it]"
     ]
    },
    {
     "name": "stdout",
     "output_type": "stream",
     "text": [
      "=================================\n",
      "Initial portfolio value:100000\n",
      "Final portfolio value: 287237.65625\n",
      "Final accumulative portfolio value: 2.8723765625\n",
      "Maximum DrawDown: -0.45989938088850935\n",
      "Sharpe ratio: 0.11167590687823335\n",
      "=================================\n"
     ]
    },
    {
     "name": "stderr",
     "output_type": "stream",
     "text": [
      " 86%|████████▌ | 103/120 [47:03<07:51, 27.74s/it]"
     ]
    },
    {
     "name": "stdout",
     "output_type": "stream",
     "text": [
      "=================================\n",
      "Initial portfolio value:100000\n",
      "Final portfolio value: 291297.625\n",
      "Final accumulative portfolio value: 2.91297625\n",
      "Maximum DrawDown: -0.4593924810345189\n",
      "Sharpe ratio: 0.11283501168021187\n",
      "=================================\n"
     ]
    },
    {
     "name": "stderr",
     "output_type": "stream",
     "text": [
      " 87%|████████▋ | 104/120 [47:30<07:20, 27.55s/it]"
     ]
    },
    {
     "name": "stdout",
     "output_type": "stream",
     "text": [
      "=================================\n",
      "Initial portfolio value:100000\n",
      "Final portfolio value: 292663.40625\n",
      "Final accumulative portfolio value: 2.9266340625\n",
      "Maximum DrawDown: -0.4595012592025499\n",
      "Sharpe ratio: 0.11321266139101592\n",
      "=================================\n"
     ]
    },
    {
     "name": "stderr",
     "output_type": "stream",
     "text": [
      " 88%|████████▊ | 105/120 [47:57<06:51, 27.43s/it]"
     ]
    },
    {
     "name": "stdout",
     "output_type": "stream",
     "text": [
      "=================================\n",
      "Initial portfolio value:100000\n",
      "Final portfolio value: 291070.03125\n",
      "Final accumulative portfolio value: 2.9107003125\n",
      "Maximum DrawDown: -0.4606471187357515\n",
      "Sharpe ratio: 0.11274655150511996\n",
      "=================================\n"
     ]
    },
    {
     "name": "stderr",
     "output_type": "stream",
     "text": [
      " 88%|████████▊ | 106/120 [48:25<06:24, 27.50s/it]"
     ]
    },
    {
     "name": "stdout",
     "output_type": "stream",
     "text": [
      "=================================\n",
      "Initial portfolio value:100000\n",
      "Final portfolio value: 287476.03125\n",
      "Final accumulative portfolio value: 2.8747603125\n",
      "Maximum DrawDown: -0.4608196685579885\n",
      "Sharpe ratio: 0.1117677323533145\n",
      "=================================\n"
     ]
    },
    {
     "name": "stderr",
     "output_type": "stream",
     "text": [
      " 89%|████████▉ | 107/120 [48:54<06:05, 28.14s/it]"
     ]
    },
    {
     "name": "stdout",
     "output_type": "stream",
     "text": [
      "=================================\n",
      "Initial portfolio value:100000\n",
      "Final portfolio value: 294134.71875\n",
      "Final accumulative portfolio value: 2.9413471875\n",
      "Maximum DrawDown: -0.46085745383638466\n",
      "Sharpe ratio: 0.1135801156651986\n",
      "=================================\n"
     ]
    },
    {
     "name": "stderr",
     "output_type": "stream",
     "text": [
      " 90%|█████████ | 108/120 [49:22<05:35, 27.93s/it]"
     ]
    },
    {
     "name": "stdout",
     "output_type": "stream",
     "text": [
      "=================================\n",
      "Initial portfolio value:100000\n",
      "Final portfolio value: 297423.90625\n",
      "Final accumulative portfolio value: 2.9742390625\n",
      "Maximum DrawDown: -0.4604182138706331\n",
      "Sharpe ratio: 0.11443971790953074\n",
      "=================================\n"
     ]
    },
    {
     "name": "stderr",
     "output_type": "stream",
     "text": [
      " 91%|█████████ | 109/120 [49:49<05:05, 27.73s/it]"
     ]
    },
    {
     "name": "stdout",
     "output_type": "stream",
     "text": [
      "=================================\n",
      "Initial portfolio value:100000\n",
      "Final portfolio value: 298018.6875\n",
      "Final accumulative portfolio value: 2.980186875\n",
      "Maximum DrawDown: -0.4601385545619432\n",
      "Sharpe ratio: 0.11462835094106612\n",
      "=================================\n"
     ]
    },
    {
     "name": "stderr",
     "output_type": "stream",
     "text": [
      " 92%|█████████▏| 110/120 [50:16<04:34, 27.41s/it]"
     ]
    },
    {
     "name": "stdout",
     "output_type": "stream",
     "text": [
      "=================================\n",
      "Initial portfolio value:100000\n",
      "Final portfolio value: 292017.75\n",
      "Final accumulative portfolio value: 2.9201775\n",
      "Maximum DrawDown: -0.4616217332576531\n",
      "Sharpe ratio: 0.11301730585995183\n",
      "=================================\n"
     ]
    },
    {
     "name": "stderr",
     "output_type": "stream",
     "text": [
      " 92%|█████████▎| 111/120 [50:43<04:06, 27.34s/it]"
     ]
    },
    {
     "name": "stdout",
     "output_type": "stream",
     "text": [
      "=================================\n",
      "Initial portfolio value:100000\n",
      "Final portfolio value: 296658.6875\n",
      "Final accumulative portfolio value: 2.966586875\n",
      "Maximum DrawDown: -0.4612044461783561\n",
      "Sharpe ratio: 0.11424014935112757\n",
      "=================================\n"
     ]
    },
    {
     "name": "stderr",
     "output_type": "stream",
     "text": [
      " 93%|█████████▎| 112/120 [51:11<03:39, 27.45s/it]"
     ]
    },
    {
     "name": "stdout",
     "output_type": "stream",
     "text": [
      "=================================\n",
      "Initial portfolio value:100000\n",
      "Final portfolio value: 295355.15625\n",
      "Final accumulative portfolio value: 2.9535515625\n",
      "Maximum DrawDown: -0.4615356559658096\n",
      "Sharpe ratio: 0.1138596686160084\n",
      "=================================\n"
     ]
    },
    {
     "name": "stderr",
     "output_type": "stream",
     "text": [
      " 94%|█████████▍| 113/120 [51:38<03:12, 27.51s/it]"
     ]
    },
    {
     "name": "stdout",
     "output_type": "stream",
     "text": [
      "=================================\n",
      "Initial portfolio value:100000\n",
      "Final portfolio value: 315342.78125\n",
      "Final accumulative portfolio value: 3.1534278125\n",
      "Maximum DrawDown: -0.4616334871174088\n",
      "Sharpe ratio: 0.11942321721610859\n",
      "=================================\n"
     ]
    },
    {
     "name": "stderr",
     "output_type": "stream",
     "text": [
      " 95%|█████████▌| 114/120 [52:07<02:46, 27.78s/it]"
     ]
    },
    {
     "name": "stdout",
     "output_type": "stream",
     "text": [
      "=================================\n",
      "Initial portfolio value:100000\n",
      "Final portfolio value: 315041.78125\n",
      "Final accumulative portfolio value: 3.1504178125\n",
      "Maximum DrawDown: -0.4610653613892107\n",
      "Sharpe ratio: 0.11929835971273753\n",
      "=================================\n"
     ]
    },
    {
     "name": "stderr",
     "output_type": "stream",
     "text": [
      " 96%|█████████▌| 115/120 [52:34<02:18, 27.65s/it]"
     ]
    },
    {
     "name": "stdout",
     "output_type": "stream",
     "text": [
      "=================================\n",
      "Initial portfolio value:100000\n",
      "Final portfolio value: 316527.4375\n",
      "Final accumulative portfolio value: 3.165274375\n",
      "Maximum DrawDown: -0.45956376937597576\n",
      "Sharpe ratio: 0.11971395385015272\n",
      "=================================\n"
     ]
    },
    {
     "name": "stderr",
     "output_type": "stream",
     "text": [
      " 97%|█████████▋| 116/120 [53:00<01:48, 27.24s/it]"
     ]
    },
    {
     "name": "stdout",
     "output_type": "stream",
     "text": [
      "=================================\n",
      "Initial portfolio value:100000\n",
      "Final portfolio value: 319520.21875\n",
      "Final accumulative portfolio value: 3.1952021875\n",
      "Maximum DrawDown: -0.456152482707205\n",
      "Sharpe ratio: 0.12058676427041472\n",
      "=================================\n"
     ]
    },
    {
     "name": "stderr",
     "output_type": "stream",
     "text": [
      " 98%|█████████▊| 117/120 [53:27<01:21, 27.09s/it]"
     ]
    },
    {
     "name": "stdout",
     "output_type": "stream",
     "text": [
      "=================================\n",
      "Initial portfolio value:100000\n",
      "Final portfolio value: 322030.625\n",
      "Final accumulative portfolio value: 3.22030625\n",
      "Maximum DrawDown: -0.4514032156352348\n",
      "Sharpe ratio: 0.12135953870857137\n",
      "=================================\n"
     ]
    },
    {
     "name": "stderr",
     "output_type": "stream",
     "text": [
      " 98%|█████████▊| 118/120 [53:55<00:54, 27.29s/it]"
     ]
    },
    {
     "name": "stdout",
     "output_type": "stream",
     "text": [
      "=================================\n",
      "Initial portfolio value:100000\n",
      "Final portfolio value: 329273.9375\n",
      "Final accumulative portfolio value: 3.292739375\n",
      "Maximum DrawDown: -0.44701232783460476\n",
      "Sharpe ratio: 0.12336609868331849\n",
      "=================================\n"
     ]
    },
    {
     "name": "stderr",
     "output_type": "stream",
     "text": [
      " 99%|█████████▉| 119/120 [54:22<00:27, 27.43s/it]"
     ]
    },
    {
     "name": "stdout",
     "output_type": "stream",
     "text": [
      "=================================\n",
      "Initial portfolio value:100000\n",
      "Final portfolio value: 330341.53125\n",
      "Final accumulative portfolio value: 3.3034153125\n",
      "Maximum DrawDown: -0.443916223210609\n",
      "Sharpe ratio: 0.12376876003961289\n",
      "=================================\n"
     ]
    },
    {
     "name": "stderr",
     "output_type": "stream",
     "text": [
      "100%|██████████| 120/120 [54:50<00:00, 27.42s/it]"
     ]
    },
    {
     "name": "stdout",
     "output_type": "stream",
     "text": [
      "=================================\n",
      "Initial portfolio value:100000\n",
      "Final portfolio value: 332814.84375\n",
      "Final accumulative portfolio value: 3.3281484375\n",
      "Maximum DrawDown: -0.4416506169775004\n",
      "Sharpe ratio: 0.12450743649457378\n",
      "=================================\n"
     ]
    },
    {
     "name": "stderr",
     "output_type": "stream",
     "text": [
      "\n"
     ]
    }
   ],
   "source": [
    "algo.train(episodes=120)"
   ]
  },
  {
   "cell_type": "code",
   "execution_count": 7,
   "metadata": {},
   "outputs": [],
   "source": [
    "torch.save(algo.train_policy.state_dict(), \"policy_BR.pt\")"
   ]
  },
  {
   "cell_type": "code",
   "execution_count": 8,
   "metadata": {},
   "outputs": [
    {
     "data": {
      "text/plain": [
       "[100000,\n",
       " 107956.9,\n",
       " 114202.59,\n",
       " 116435.34,\n",
       " 116586.21,\n",
       " 114202.586,\n",
       " 109827.586,\n",
       " 112301.72,\n",
       " 117129.31,\n",
       " 124038.8,\n",
       " 124612.07,\n",
       " 124853.445,\n",
       " 123737.055,\n",
       " 129922.414,\n",
       " 134931.03,\n",
       " 139396.55,\n",
       " 140392.25,\n",
       " 137284.5,\n",
       " 135112.08,\n",
       " 143620.7,\n",
       " 138068.98,\n",
       " 142715.52,\n",
       " 144616.38,\n",
       " 144737.06,\n",
       " 147241.38,\n",
       " 144827.58,\n",
       " 144495.69,\n",
       " 145762.9,\n",
       " 131702.58,\n",
       " 137254.3,\n",
       " 136228.44,\n",
       " 135323.28,\n",
       " 137284.48,\n",
       " 135775.86,\n",
       " 141657.22,\n",
       " 153941.36,\n",
       " 149758.48,\n",
       " 157041.6,\n",
       " 148145.75,\n",
       " 143442.77,\n",
       " 141397.2,\n",
       " 153448.69,\n",
       " 156485.42,\n",
       " 158248.78,\n",
       " 152501.34,\n",
       " 143749.66,\n",
       " 129805.78,\n",
       " 141310.83,\n",
       " 127549.74,\n",
       " 101395.875,\n",
       " 120051.46,\n",
       " 98882.086,\n",
       " 103027.3,\n",
       " 88358.11,\n",
       " 101094.32,\n",
       " 96773.38,\n",
       " 91866.7,\n",
       " 105522.445,\n",
       " 113476.68,\n",
       " 114031.36,\n",
       " 105393.83,\n",
       " 106027.78,\n",
       " 110861.63,\n",
       " 113318.15,\n",
       " 124360.516,\n",
       " 110896.875,\n",
       " 133209.45,\n",
       " 137839.52,\n",
       " 145571.81,\n",
       " 141369.39,\n",
       " 142293.94,\n",
       " 142928.81,\n",
       " 141741.7,\n",
       " 135714.12,\n",
       " 145739.48,\n",
       " 147078.2,\n",
       " 145831.19,\n",
       " 141708.5,\n",
       " 127084.89,\n",
       " 134150.58,\n",
       " 139108.62,\n",
       " 145400.28,\n",
       " 140560.64,\n",
       " 139517.11,\n",
       " 146170.48,\n",
       " 143325.1,\n",
       " 143256.14,\n",
       " 139395.55,\n",
       " 145462.2,\n",
       " 143394.03,\n",
       " 139671.3,\n",
       " 144910.69,\n",
       " 143531.89,\n",
       " 172348.58,\n",
       " 182499.77,\n",
       " 187417.97,\n",
       " 195094.34,\n",
       " 190651.62,\n",
       " 197724.53,\n",
       " 194822.69,\n",
       " 202165.66,\n",
       " 192575.12,\n",
       " 198560.83,\n",
       " 194071.53,\n",
       " 197374.0,\n",
       " 211667.5,\n",
       " 212698.64,\n",
       " 212315.17,\n",
       " 212642.77,\n",
       " 213456.39,\n",
       " 198633.42,\n",
       " 186083.06,\n",
       " 202133.03,\n",
       " 199900.53,\n",
       " 201107.28,\n",
       " 212209.53,\n",
       " 211907.83,\n",
       " 208770.25,\n",
       " 215166.11,\n",
       " 202615.77,\n",
       " 213838.67,\n",
       " 207865.19,\n",
       " 210882.11,\n",
       " 213537.0,\n",
       " 208166.89,\n",
       " 213718.03,\n",
       " 210158.08,\n",
       " 224216.89,\n",
       " 226060.77,\n",
       " 227685.94,\n",
       " 228356.25,\n",
       " 229362.55,\n",
       " 230369.03,\n",
       " 226500.98,\n",
       " 227991.53,\n",
       " 228830.17,\n",
       " 243673.19,\n",
       " 252052.69,\n",
       " 252379.61,\n",
       " 286541.53,\n",
       " 279410.75,\n",
       " 280475.97,\n",
       " 291168.0,\n",
       " 278381.12,\n",
       " 277492.9,\n",
       " 281718.66,\n",
       " 279025.8,\n",
       " 275794.3,\n",
       " 276705.8,\n",
       " 282547.22,\n",
       " 289300.28,\n",
       " 283583.0,\n",
       " 285820.12,\n",
       " 279198.7,\n",
       " 281779.47,\n",
       " 285507.78,\n",
       " 286626.56,\n",
       " 281653.94,\n",
       " 280537.88,\n",
       " 272995.78,\n",
       " 278548.4,\n",
       " 280123.2,\n",
       " 275442.47,\n",
       " 282950.78,\n",
       " 277646.06,\n",
       " 275977.38,\n",
       " 279721.28,\n",
       " 269036.78,\n",
       " 278693.28,\n",
       " 277618.62,\n",
       " 276950.34,\n",
       " 276753.3,\n",
       " 268137.88,\n",
       " 273795.94,\n",
       " 266425.3,\n",
       " 263536.34,\n",
       " 261132.62,\n",
       " 261011.45,\n",
       " 261734.14,\n",
       " 266792.97,\n",
       " 260770.55,\n",
       " 251737.0,\n",
       " 250532.5,\n",
       " 243666.9,\n",
       " 245714.58,\n",
       " 242462.44,\n",
       " 236440.03,\n",
       " 232585.67,\n",
       " 236199.08,\n",
       " 239089.89,\n",
       " 229196.25,\n",
       " 235324.19,\n",
       " 235022.8,\n",
       " 233296.38,\n",
       " 239833.67,\n",
       " 232310.19,\n",
       " 236182.0,\n",
       " 234304.73,\n",
       " 231723.55,\n",
       " 226795.75,\n",
       " 229025.02,\n",
       " 236768.67,\n",
       " 236511.42,\n",
       " 246466.86,\n",
       " 244297.77,\n",
       " 240804.86,\n",
       " 236169.4,\n",
       " 221794.48,\n",
       " 229159.94,\n",
       " 224995.19,\n",
       " 228272.2,\n",
       " 242679.28,\n",
       " 253159.83,\n",
       " 247993.53,\n",
       " 242473.05,\n",
       " 233320.83,\n",
       " 237926.4,\n",
       " 238546.45,\n",
       " 244657.72,\n",
       " 240858.1,\n",
       " 241209.78,\n",
       " 237263.66,\n",
       " 236817.73,\n",
       " 234886.53,\n",
       " 245190.77,\n",
       " 242192.77,\n",
       " 238505.45,\n",
       " 239238.1,\n",
       " 232487.78,\n",
       " 239021.75,\n",
       " 241915.9,\n",
       " 244069.95,\n",
       " 263831.62,\n",
       " 264075.5,\n",
       " 262244.2,\n",
       " 262340.34,\n",
       " 271818.03,\n",
       " 269560.53,\n",
       " 267310.56,\n",
       " 267503.1,\n",
       " 270441.12,\n",
       " 280555.6,\n",
       " 273331.0,\n",
       " 272608.5,\n",
       " 287443.03,\n",
       " 318508.8,\n",
       " 317030.25,\n",
       " 321592.44,\n",
       " 332814.84]"
      ]
     },
     "execution_count": 8,
     "metadata": {},
     "output_type": "execute_result"
    }
   ],
   "source": [
    "eiie_values = environment_test._asset_memory[\"final\"]\n",
    "eiie_values"
   ]
  },
  {
   "cell_type": "code",
   "execution_count": 18,
   "metadata": {},
   "outputs": [
    {
     "name": "stdout",
     "output_type": "stream",
     "text": [
      "=================================\n",
      "Initial portfolio value:100000\n",
      "Final portfolio value: 124423.1328125\n",
      "Final accumulative portfolio value: 1.244231328125\n",
      "Maximum DrawDown: -0.48198812549863623\n",
      "Sharpe ratio: 0.04363526848832826\n",
      "=================================\n"
     ]
    }
   ],
   "source": [
    "# uniform buy and hold\n",
    "import numpy as np\n",
    "\n",
    "environment_test.reset()\n",
    "done = False\n",
    "\n",
    "while not done:\n",
    "    _, _, done, _, _ = environment_test.step(np.array([0] + [1/10] * 10))"
   ]
  },
  {
   "cell_type": "code",
   "execution_count": 20,
   "metadata": {},
   "outputs": [
    {
     "data": {
      "text/plain": [
       "[100000,\n",
       " 102891.75,\n",
       " 102706.75,\n",
       " 102439.46,\n",
       " 102186.91,\n",
       " 101077.78,\n",
       " 99700.766,\n",
       " 99461.05,\n",
       " 101126.72,\n",
       " 101663.484,\n",
       " 100852.94,\n",
       " 101446.19,\n",
       " 102846.984,\n",
       " 103442.46,\n",
       " 102269.86,\n",
       " 103559.2,\n",
       " 105267.58,\n",
       " 104762.46,\n",
       " 102350.2,\n",
       " 104330.73,\n",
       " 103423.1,\n",
       " 103735.164,\n",
       " 101797.81,\n",
       " 102374.67,\n",
       " 102904.82,\n",
       " 103642.72,\n",
       " 103108.516,\n",
       " 102641.57,\n",
       " 101285.45,\n",
       " 104021.79,\n",
       " 104821.12,\n",
       " 103929.72,\n",
       " 103067.25,\n",
       " 103428.85,\n",
       " 103438.94,\n",
       " 104871.18,\n",
       " 103935.87,\n",
       " 103498.0,\n",
       " 95922.234,\n",
       " 93302.18,\n",
       " 94155.234,\n",
       " 96836.414,\n",
       " 96051.19,\n",
       " 97842.06,\n",
       " 93863.47,\n",
       " 89588.945,\n",
       " 76895.76,\n",
       " 82252.18,\n",
       " 75917.81,\n",
       " 63920.55,\n",
       " 72791.57,\n",
       " 61177.99,\n",
       " 63308.7,\n",
       " 55234.41,\n",
       " 57866.113,\n",
       " 57868.62,\n",
       " 54529.855,\n",
       " 60015.344,\n",
       " 67116.15,\n",
       " 69783.16,\n",
       " 65483.438,\n",
       " 65276.867,\n",
       " 63582.273,\n",
       " 61432.156,\n",
       " 64209.156,\n",
       " 61897.086,\n",
       " 67867.63,\n",
       " 71396.625,\n",
       " 73826.945,\n",
       " 71399.81,\n",
       " 71754.34,\n",
       " 72001.67,\n",
       " 70543.82,\n",
       " 68903.81,\n",
       " 70681.234,\n",
       " 70193.65,\n",
       " 71400.16,\n",
       " 70397.2,\n",
       " 66516.69,\n",
       " 68610.54,\n",
       " 72996.86,\n",
       " 74301.86,\n",
       " 71220.805,\n",
       " 69648.51,\n",
       " 70466.82,\n",
       " 69207.4,\n",
       " 67646.01,\n",
       " 69309.59,\n",
       " 68723.45,\n",
       " 67460.63,\n",
       " 66486.14,\n",
       " 68512.08,\n",
       " 67642.18,\n",
       " 72612.19,\n",
       " 73085.26,\n",
       " 73987.84,\n",
       " 75948.04,\n",
       " 74548.484,\n",
       " 78255.3,\n",
       " 77575.234,\n",
       " 79916.36,\n",
       " 78441.44,\n",
       " 79612.02,\n",
       " 81033.35,\n",
       " 83871.4,\n",
       " 85976.49,\n",
       " 87262.7,\n",
       " 89650.516,\n",
       " 92216.24,\n",
       " 90528.01,\n",
       " 87310.83,\n",
       " 85064.96,\n",
       " 85289.27,\n",
       " 86216.75,\n",
       " 88003.76,\n",
       " 88782.086,\n",
       " 89081.11,\n",
       " 87652.33,\n",
       " 88134.0,\n",
       " 85878.84,\n",
       " 88111.016,\n",
       " 86501.06,\n",
       " 88485.336,\n",
       " 87728.5,\n",
       " 88738.92,\n",
       " 89537.73,\n",
       " 89469.84,\n",
       " 92220.7,\n",
       " 91252.7,\n",
       " 92680.555,\n",
       " 91947.695,\n",
       " 92605.586,\n",
       " 91721.91,\n",
       " 93407.09,\n",
       " 94391.25,\n",
       " 93207.36,\n",
       " 94773.875,\n",
       " 95521.35,\n",
       " 96701.945,\n",
       " 97221.17,\n",
       " 95247.914,\n",
       " 95064.84,\n",
       " 97876.125,\n",
       " 96679.09,\n",
       " 98457.63,\n",
       " 98043.33,\n",
       " 96183.9,\n",
       " 95743.89,\n",
       " 93883.95,\n",
       " 96585.87,\n",
       " 97653.31,\n",
       " 97087.43,\n",
       " 98200.3,\n",
       " 96889.74,\n",
       " 97063.99,\n",
       " 95139.84,\n",
       " 95661.47,\n",
       " 93730.8,\n",
       " 95424.02,\n",
       " 94819.164,\n",
       " 95373.16,\n",
       " 95156.92,\n",
       " 95767.59,\n",
       " 96011.77,\n",
       " 94403.35,\n",
       " 94476.19,\n",
       " 95725.67,\n",
       " 93008.125,\n",
       " 96317.07,\n",
       " 96277.44,\n",
       " 96248.125,\n",
       " 96841.36,\n",
       " 95333.76,\n",
       " 96090.13,\n",
       " 93129.414,\n",
       " 92448.78,\n",
       " 94033.016,\n",
       " 93993.03,\n",
       " 93412.375,\n",
       " 94318.21,\n",
       " 92185.555,\n",
       " 90684.695,\n",
       " 91142.195,\n",
       " 90351.37,\n",
       " 91591.94,\n",
       " 91370.53,\n",
       " 89850.02,\n",
       " 89134.42,\n",
       " 90018.75,\n",
       " 90957.83,\n",
       " 89865.31,\n",
       " 92292.945,\n",
       " 92396.59,\n",
       " 92689.0,\n",
       " 95493.516,\n",
       " 95026.36,\n",
       " 95660.0,\n",
       " 96811.64,\n",
       " 96006.09,\n",
       " 95133.414,\n",
       " 95810.81,\n",
       " 98050.89,\n",
       " 97380.85,\n",
       " 100440.836,\n",
       " 99789.766,\n",
       " 99908.32,\n",
       " 98639.484,\n",
       " 94119.98,\n",
       " 94610.41,\n",
       " 91101.65,\n",
       " 94047.016,\n",
       " 95776.984,\n",
       " 97997.73,\n",
       " 98036.11,\n",
       " 103397.63,\n",
       " 106019.33,\n",
       " 105062.0,\n",
       " 102304.67,\n",
       " 104921.36,\n",
       " 107206.82,\n",
       " 108399.055,\n",
       " 106569.516,\n",
       " 110234.59,\n",
       " 110725.55,\n",
       " 112580.125,\n",
       " 113017.17,\n",
       " 112819.0,\n",
       " 113255.445,\n",
       " 110969.64,\n",
       " 114187.91,\n",
       " 114238.0,\n",
       " 115026.72,\n",
       " 116609.96,\n",
       " 116257.664,\n",
       " 116030.195,\n",
       " 115658.516,\n",
       " 118592.734,\n",
       " 118186.57,\n",
       " 117623.91,\n",
       " 119187.68,\n",
       " 120923.09,\n",
       " 122181.74,\n",
       " 121339.63,\n",
       " 118829.69,\n",
       " 119888.87,\n",
       " 122702.03,\n",
       " 123999.06,\n",
       " 124317.41,\n",
       " 124423.13]"
      ]
     },
     "execution_count": 20,
     "metadata": {},
     "output_type": "execute_result"
    }
   ],
   "source": [
    "ubah_values = environment_test._asset_memory[\"final\"]\n",
    "ubah_values"
   ]
  },
  {
   "cell_type": "code",
   "execution_count": 21,
   "metadata": {},
   "outputs": [
    {
     "name": "stdout",
     "output_type": "stream",
     "text": [
      "=================================\n",
      "Initial portfolio value:100000\n",
      "Final portfolio value: 219731.40625\n",
      "Final accumulative portfolio value: 2.1973140625\n",
      "Maximum DrawDown: -0.4666771035168006\n",
      "Sharpe ratio: 0.10559124967935572\n",
      "=================================\n"
     ]
    }
   ],
   "source": [
    "# best performing stock\n",
    "import numpy as np\n",
    "\n",
    "environment_test.reset()\n",
    "done = False\n",
    "\n",
    "while not done:\n",
    "    _, _, done, _, _ = environment_test.step(np.array([0, 0, 0, 0, 0, 0, 0, 0, 0, 0, 1]))"
   ]
  },
  {
   "cell_type": "code",
   "execution_count": 22,
   "metadata": {},
   "outputs": [
    {
     "data": {
      "text/plain": [
       "[100000,\n",
       " 101419.23,\n",
       " 100124.16,\n",
       " 100383.164,\n",
       " 101160.23,\n",
       " 97332.55,\n",
       " 95893.555,\n",
       " 97850.6,\n",
       " 98771.516,\n",
       " 100728.51,\n",
       " 101390.445,\n",
       " 103232.34,\n",
       " 105908.83,\n",
       " 109160.91,\n",
       " 107894.625,\n",
       " 111952.56,\n",
       " 114111.016,\n",
       " 119233.77,\n",
       " 117909.91,\n",
       " 120902.95,\n",
       " 121996.61,\n",
       " 117909.914,\n",
       " 113420.3,\n",
       " 117046.54,\n",
       " 116614.836,\n",
       " 119061.09,\n",
       " 123291.7,\n",
       " 118284.06,\n",
       " 119521.57,\n",
       " 123896.07,\n",
       " 128241.78,\n",
       " 131148.5,\n",
       " 131148.5,\n",
       " 131752.88,\n",
       " 128644.695,\n",
       " 140501.9,\n",
       " 136674.2,\n",
       " 143322.3,\n",
       " 135230.34,\n",
       " 126971.555,\n",
       " 124603.66,\n",
       " 135692.31,\n",
       " 138377.88,\n",
       " 139937.25,\n",
       " 134854.89,\n",
       " 127115.88,\n",
       " 114785.51,\n",
       " 121022.914,\n",
       " 113197.266,\n",
       " 95293.63,\n",
       " 99711.79,\n",
       " 79151.47,\n",
       " 82818.836,\n",
       " 76437.06,\n",
       " 82963.2,\n",
       " 93474.375,\n",
       " 101741.58,\n",
       " 104227.336,\n",
       " 107984.83,\n",
       " 109690.15,\n",
       " 102204.055,\n",
       " 98330.95,\n",
       " 97030.26,\n",
       " 93735.22,\n",
       " 98562.13,\n",
       " 95064.805,\n",
       " 96192.05,\n",
       " 107811.44,\n",
       " 115586.54,\n",
       " 110701.78,\n",
       " 113476.57,\n",
       " 112436.04,\n",
       " 109834.64,\n",
       " 109863.56,\n",
       " 111164.23,\n",
       " 113014.06,\n",
       " 118274.58,\n",
       " 114430.39,\n",
       " 111886.83,\n",
       " 117349.664,\n",
       " 120182.234,\n",
       " 119661.97,\n",
       " 115441.98,\n",
       " 115152.99,\n",
       " 112753.945,\n",
       " 112233.68,\n",
       " 112985.14,\n",
       " 110528.35,\n",
       " 112233.68,\n",
       " 108389.46,\n",
       " 109834.625,\n",
       " 107955.875,\n",
       " 105238.96,\n",
       " 105845.92,\n",
       " 106712.99,\n",
       " 108794.1,\n",
       " 108216.016,\n",
       " 107637.98,\n",
       " 109950.26,\n",
       " 116829.34,\n",
       " 117291.82,\n",
       " 117580.89,\n",
       " 120904.84,\n",
       " 121858.625,\n",
       " 122610.13,\n",
       " 123130.37,\n",
       " 126598.84,\n",
       " 128130.766,\n",
       " 132379.64,\n",
       " 132408.6,\n",
       " 130038.445,\n",
       " 127899.555,\n",
       " 127957.38,\n",
       " 129373.66,\n",
       " 133420.17,\n",
       " 133333.47,\n",
       " 133564.72,\n",
       " 131801.55,\n",
       " 133304.55,\n",
       " 133102.23,\n",
       " 142264.78,\n",
       " 144519.27,\n",
       " 144398.48,\n",
       " 146394.36,\n",
       " 152121.7,\n",
       " 154956.44,\n",
       " 156200.27,\n",
       " 153886.2,\n",
       " 155939.94,\n",
       " 157068.02,\n",
       " 157530.83,\n",
       " 158225.03,\n",
       " 158919.28,\n",
       " 156171.3,\n",
       " 157212.64,\n",
       " 157791.16,\n",
       " 168030.92,\n",
       " 174018.62,\n",
       " 173208.67,\n",
       " 197275.03,\n",
       " 193746.11,\n",
       " 192965.08,\n",
       " 202722.4,\n",
       " 194723.66,\n",
       " 194115.1,\n",
       " 197071.12,\n",
       " 195187.39,\n",
       " 192926.86,\n",
       " 193564.47,\n",
       " 197650.72,\n",
       " 202374.69,\n",
       " 198375.25,\n",
       " 199940.19,\n",
       " 195245.34,\n",
       " 197071.08,\n",
       " 199679.42,\n",
       " 200461.88,\n",
       " 196984.19,\n",
       " 196201.66,\n",
       " 190927.1,\n",
       " 194810.47,\n",
       " 195911.83,\n",
       " 192636.92,\n",
       " 197911.58,\n",
       " 192521.05,\n",
       " 192115.34,\n",
       " 194723.58,\n",
       " 187275.5,\n",
       " 193970.16,\n",
       " 193622.31,\n",
       " 186724.83,\n",
       " 186898.73,\n",
       " 182580.56,\n",
       " 188173.94,\n",
       " 180899.66,\n",
       " 179943.31,\n",
       " 183536.94,\n",
       " 185710.5,\n",
       " 182406.69,\n",
       " 182058.89,\n",
       " 179653.48,\n",
       " 183739.81,\n",
       " 187275.52,\n",
       " 181131.52,\n",
       " 186898.73,\n",
       " 186203.19,\n",
       " 182359.58,\n",
       " 188303.88,\n",
       " 190507.67,\n",
       " 193987.23,\n",
       " 194422.17,\n",
       " 203498.12,\n",
       " 207267.77,\n",
       " 212168.16,\n",
       " 217996.48,\n",
       " 222983.92,\n",
       " 229508.14,\n",
       " 233654.58,\n",
       " 234205.53,\n",
       " 237917.12,\n",
       " 237946.11,\n",
       " 242266.61,\n",
       " 227333.38,\n",
       " 238091.03,\n",
       " 236815.2,\n",
       " 239946.88,\n",
       " 241367.69,\n",
       " 229479.11,\n",
       " 232059.77,\n",
       " 219881.17,\n",
       " 224201.62,\n",
       " 238352.0,\n",
       " 248645.73,\n",
       " 243571.34,\n",
       " 238149.0,\n",
       " 229160.02,\n",
       " 233683.47,\n",
       " 234292.45,\n",
       " 240294.72,\n",
       " 236554.19,\n",
       " 236873.16,\n",
       " 235133.31,\n",
       " 234669.4,\n",
       " 227652.31,\n",
       " 223099.77,\n",
       " 224201.6,\n",
       " 225303.52,\n",
       " 223273.72,\n",
       " 213327.92,\n",
       " 213414.89,\n",
       " 212342.05,\n",
       " 214371.75,\n",
       " 208195.55,\n",
       " 207644.6,\n",
       " 210805.22,\n",
       " 205875.83,\n",
       " 205875.83,\n",
       " 205875.83,\n",
       " 204570.95,\n",
       " 210950.16,\n",
       " 212545.06,\n",
       " 219707.1,\n",
       " 211298.11,\n",
       " 208910.17,\n",
       " 211260.14,\n",
       " 210679.89,\n",
       " 219035.12,\n",
       " 218019.81,\n",
       " 219731.4]"
      ]
     },
     "execution_count": 22,
     "metadata": {},
     "output_type": "execute_result"
    }
   ],
   "source": [
    "best_stock_values = environment_test._asset_memory[\"final\"]\n",
    "best_stock_values"
   ]
  },
  {
   "cell_type": "code",
   "execution_count": 23,
   "metadata": {},
   "outputs": [
    {
     "name": "stdout",
     "output_type": "stream",
     "text": [
      "=================================\n",
      "Initial portfolio value:100000\n",
      "Final portfolio value: 211780.109375\n",
      "Final accumulative portfolio value: 2.11780109375\n",
      "Maximum DrawDown: -0.787909849982724\n",
      "Sharpe ratio: 0.07947899879210203\n",
      "=================================\n"
     ]
    }
   ],
   "source": [
    "# follow the loser: invest in the worst performing stock in training\n",
    "import numpy as np\n",
    "\n",
    "environment_test.reset()\n",
    "done = False\n",
    "\n",
    "while not done:\n",
    "    _, _, done, _, _ = environment_test.step(np.array([0, 0, 0, 0, 0, 0, 0, 1, 0, 0, 0]))"
   ]
  },
  {
   "cell_type": "code",
   "execution_count": 24,
   "metadata": {},
   "outputs": [
    {
     "data": {
      "text/plain": [
       "[100000,\n",
       " 107956.9,\n",
       " 114202.59,\n",
       " 116435.34,\n",
       " 116586.21,\n",
       " 114202.586,\n",
       " 109827.586,\n",
       " 112301.72,\n",
       " 117129.31,\n",
       " 124038.8,\n",
       " 124612.07,\n",
       " 124853.445,\n",
       " 123737.055,\n",
       " 129922.414,\n",
       " 134931.03,\n",
       " 139396.55,\n",
       " 140392.25,\n",
       " 137284.5,\n",
       " 135112.08,\n",
       " 143620.7,\n",
       " 138068.98,\n",
       " 142715.52,\n",
       " 144616.38,\n",
       " 144737.06,\n",
       " 147241.38,\n",
       " 144827.58,\n",
       " 144495.69,\n",
       " 145762.9,\n",
       " 131702.58,\n",
       " 137254.3,\n",
       " 136228.44,\n",
       " 135323.28,\n",
       " 137284.48,\n",
       " 135775.86,\n",
       " 141659.48,\n",
       " 141961.19,\n",
       " 144767.22,\n",
       " 144706.89,\n",
       " 123405.164,\n",
       " 120086.2,\n",
       " 118879.305,\n",
       " 127629.31,\n",
       " 126060.33,\n",
       " 124702.58,\n",
       " 119331.89,\n",
       " 106931.03,\n",
       " 67857.76,\n",
       " 77030.17,\n",
       " 70331.9,\n",
       " 47340.52,\n",
       " 56331.9,\n",
       " 46767.24,\n",
       " 44323.273,\n",
       " 31228.445,\n",
       " 35693.96,\n",
       " 37413.793,\n",
       " 35844.824,\n",
       " 39435.34,\n",
       " 52168.094,\n",
       " 57116.37,\n",
       " 54612.06,\n",
       " 51293.098,\n",
       " 50387.92,\n",
       " 49724.13,\n",
       " 58836.2,\n",
       " 62849.13,\n",
       " 77603.44,\n",
       " 82974.125,\n",
       " 84452.58,\n",
       " 74525.86,\n",
       " 70784.48,\n",
       " 71478.44,\n",
       " 70905.164,\n",
       " 67887.92,\n",
       " 66409.48,\n",
       " 62155.164,\n",
       " 59771.547,\n",
       " 60193.957,\n",
       " 55969.82,\n",
       " 56573.266,\n",
       " 65745.67,\n",
       " 64900.844,\n",
       " 61702.57,\n",
       " 59530.156,\n",
       " 63905.15,\n",
       " 62728.43,\n",
       " 62698.254,\n",
       " 61008.6,\n",
       " 63663.766,\n",
       " 62758.598,\n",
       " 61129.29,\n",
       " 63422.39,\n",
       " 62818.938,\n",
       " 75431.01,\n",
       " 81465.49,\n",
       " 79232.734,\n",
       " 82974.11,\n",
       " 81163.766,\n",
       " 87439.625,\n",
       " 86896.52,\n",
       " 89762.9,\n",
       " 88193.945,\n",
       " 93474.12,\n",
       " 94409.46,\n",
       " 101349.11,\n",
       " 97999.98,\n",
       " 102344.805,\n",
       " 112452.56,\n",
       " 112724.12,\n",
       " 106206.87,\n",
       " 99327.56,\n",
       " 93051.7,\n",
       " 101077.56,\n",
       " 99961.19,\n",
       " 100564.63,\n",
       " 106116.36,\n",
       " 105965.49,\n",
       " 104396.52,\n",
       " 107594.8,\n",
       " 101318.94,\n",
       " 106931.01,\n",
       " 103943.94,\n",
       " 105452.56,\n",
       " 106780.16,\n",
       " 104094.805,\n",
       " 106870.68,\n",
       " 105090.5,\n",
       " 112120.664,\n",
       " 112090.49,\n",
       " 110581.87,\n",
       " 110551.7,\n",
       " 108982.734,\n",
       " 116586.19,\n",
       " 120297.38,\n",
       " 121081.87,\n",
       " 119693.945,\n",
       " 118155.15,\n",
       " 121051.71,\n",
       " 124159.445,\n",
       " 122560.305,\n",
       " 119181.01,\n",
       " 116133.59,\n",
       " 121112.04,\n",
       " 118788.77,\n",
       " 118788.77,\n",
       " 119663.78,\n",
       " 119452.57,\n",
       " 119211.19,\n",
       " 115530.15,\n",
       " 131219.8,\n",
       " 127267.22,\n",
       " 132426.7,\n",
       " 137012.92,\n",
       " 132155.16,\n",
       " 133965.5,\n",
       " 131491.36,\n",
       " 130012.914,\n",
       " 126935.32,\n",
       " 132909.47,\n",
       " 140935.31,\n",
       " 138461.19,\n",
       " 135081.89,\n",
       " 133603.44,\n",
       " 133663.77,\n",
       " 132245.67,\n",
       " 129952.586,\n",
       " 129711.18,\n",
       " 126392.23,\n",
       " 132758.61,\n",
       " 130887.91,\n",
       " 130857.74,\n",
       " 132909.48,\n",
       " 124823.27,\n",
       " 124642.234,\n",
       " 119452.586,\n",
       " 119512.92,\n",
       " 117672.414,\n",
       " 117642.234,\n",
       " 116978.445,\n",
       " 118155.16,\n",
       " 114987.055,\n",
       " 111969.81,\n",
       " 110129.3,\n",
       " 105150.84,\n",
       " 110129.29,\n",
       " 107112.05,\n",
       " 104999.984,\n",
       " 103612.055,\n",
       " 105271.55,\n",
       " 107202.58,\n",
       " 103400.86,\n",
       " 110219.83,\n",
       " 107806.02,\n",
       " 110068.96,\n",
       " 109224.13,\n",
       " 107323.27,\n",
       " 107202.586,\n",
       " 115801.73,\n",
       " 109314.65,\n",
       " 106961.195,\n",
       " 108198.266,\n",
       " 108168.09,\n",
       " 108349.13,\n",
       " 113689.64,\n",
       " 109525.86,\n",
       " 107112.055,\n",
       " 104698.266,\n",
       " 96974.125,\n",
       " 99568.945,\n",
       " 94499.98,\n",
       " 97849.12,\n",
       " 97155.15,\n",
       " 97607.73,\n",
       " 102586.19,\n",
       " 106327.56,\n",
       " 104185.32,\n",
       " 100715.5,\n",
       " 96732.734,\n",
       " 102586.19,\n",
       " 104547.39,\n",
       " 106418.08,\n",
       " 106810.32,\n",
       " 138793.08,\n",
       " 140331.89,\n",
       " 136681.03,\n",
       " 144827.58,\n",
       " 152310.33,\n",
       " 156142.22,\n",
       " 151374.98,\n",
       " 161271.52,\n",
       " 153547.39,\n",
       " 155689.61,\n",
       " 168301.67,\n",
       " 167517.19,\n",
       " 162930.98,\n",
       " 164288.73,\n",
       " 174275.8,\n",
       " 168060.28,\n",
       " 167456.83,\n",
       " 167577.52,\n",
       " 169418.03,\n",
       " 175754.25,\n",
       " 171228.39,\n",
       " 170775.78,\n",
       " 180068.89,\n",
       " 199530.08,\n",
       " 200767.16,\n",
       " 204629.23,\n",
       " 211780.11]"
      ]
     },
     "execution_count": 24,
     "metadata": {},
     "output_type": "execute_result"
    }
   ],
   "source": [
    "follow_loser_values = environment_test._asset_memory[\"final\"]\n",
    "follow_loser_values"
   ]
  },
  {
   "cell_type": "code",
   "execution_count": 25,
   "metadata": {},
   "outputs": [
    {
     "name": "stdout",
     "output_type": "stream",
     "text": [
      "=================================\n",
      "Initial portfolio value:100000\n",
      "Final portfolio value: 77903.015625\n",
      "Final accumulative portfolio value: 0.77903015625\n",
      "Maximum DrawDown: -0.5061583640682784\n",
      "Sharpe ratio: -0.005289602162757053\n",
      "=================================\n"
     ]
    }
   ],
   "source": [
    "# follow the winner: invest in the best performing stock in training set\n",
    "import numpy as np\n",
    "\n",
    "environment_test.reset()\n",
    "done = False\n",
    "\n",
    "while not done:\n",
    "    _, _, done, _, _ = environment_test.step(np.array([0, 0, 0, 0, 0, 1, 0, 0, 0, 0, 0]))"
   ]
  },
  {
   "cell_type": "code",
   "execution_count": 26,
   "metadata": {},
   "outputs": [
    {
     "data": {
      "text/plain": [
       "[100000,\n",
       " 102075.54,\n",
       " 101365.44,\n",
       " 101276.66,\n",
       " 101223.41,\n",
       " 101880.25,\n",
       " 101099.15,\n",
       " 101418.7,\n",
       " 103619.96,\n",
       " 102306.305,\n",
       " 101631.72,\n",
       " 102448.336,\n",
       " 105128.92,\n",
       " 105625.97,\n",
       " 104649.61,\n",
       " 106247.31,\n",
       " 108058.07,\n",
       " 106815.38,\n",
       " 104525.36,\n",
       " 105927.79,\n",
       " 106513.59,\n",
       " 105093.414,\n",
       " 101986.78,\n",
       " 102572.58,\n",
       " 101010.39,\n",
       " 101542.984,\n",
       " 98028.016,\n",
       " 98649.34,\n",
       " 97566.47,\n",
       " 100282.555,\n",
       " 100566.59,\n",
       " 101738.25,\n",
       " 100211.55,\n",
       " 101542.984,\n",
       " 100921.64,\n",
       " 100318.07,\n",
       " 98578.31,\n",
       " 99412.68,\n",
       " 93465.66,\n",
       " 90625.31,\n",
       " 94619.57,\n",
       " 94086.99,\n",
       " 94672.82,\n",
       " 96838.6,\n",
       " 91956.73,\n",
       " 90145.984,\n",
       " 81660.414,\n",
       " 89205.125,\n",
       " 83595.41,\n",
       " 76707.52,\n",
       " 83045.09,\n",
       " 65505.848,\n",
       " 68417.23,\n",
       " 56807.254,\n",
       " 65328.34,\n",
       " 61208.027,\n",
       " 53363.574,\n",
       " 58682.145,\n",
       " 65459.33,\n",
       " 68821.24,\n",
       " 64036.3,\n",
       " 63484.88,\n",
       " 59696.062,\n",
       " 57365.85,\n",
       " 57170.188,\n",
       " 55071.223,\n",
       " 61812.824,\n",
       " 65815.086,\n",
       " 67149.19,\n",
       " 65067.992,\n",
       " 64107.47,\n",
       " 64143.027,\n",
       " 63591.613,\n",
       " 63413.734,\n",
       " 66704.48,\n",
       " 69372.664,\n",
       " 72805.74,\n",
       " 70173.13,\n",
       " 67006.9,\n",
       " 68767.9,\n",
       " 71542.79,\n",
       " 72165.375,\n",
       " 68320.98,\n",
       " 66220.97,\n",
       " 64690.465,\n",
       " 63409.11,\n",
       " 59280.312,\n",
       " 60330.312,\n",
       " 58194.727,\n",
       " 58870.99,\n",
       " 56557.457,\n",
       " 59262.523,\n",
       " 59476.082,\n",
       " 64423.51,\n",
       " 65473.52,\n",
       " 68125.22,\n",
       " 72556.555,\n",
       " 66505.71,\n",
       " 71844.69,\n",
       " 67893.85,\n",
       " 70812.46,\n",
       " 69459.94,\n",
       " 68605.72,\n",
       " 72948.086,\n",
       " 74976.875,\n",
       " 78625.18,\n",
       " 79301.46,\n",
       " 81828.56,\n",
       " 82237.88,\n",
       " 81543.82,\n",
       " 78126.875,\n",
       " 76489.586,\n",
       " 74976.875,\n",
       " 74318.4,\n",
       " 77237.055,\n",
       " 76596.4,\n",
       " 78144.67,\n",
       " 76418.43,\n",
       " 74514.18,\n",
       " 73178.26,\n",
       " 72750.414,\n",
       " 72376.03,\n",
       " 73445.66,\n",
       " 74515.26,\n",
       " 73855.65,\n",
       " 73909.14,\n",
       " 73089.11,\n",
       " 75798.76,\n",
       " 76190.914,\n",
       " 77724.02,\n",
       " 78633.19,\n",
       " 79167.97,\n",
       " 76244.43,\n",
       " 74711.33,\n",
       " 74123.016,\n",
       " 74051.74,\n",
       " 75317.42,\n",
       " 76208.74,\n",
       " 75406.56,\n",
       " 76084.0,\n",
       " 73213.88,\n",
       " 73445.64,\n",
       " 71306.44,\n",
       " 71573.85,\n",
       " 74336.97,\n",
       " 73784.336,\n",
       " 73320.84,\n",
       " 72768.22,\n",
       " 70379.46,\n",
       " 72625.6,\n",
       " 76387.03,\n",
       " 77046.61,\n",
       " 76030.49,\n",
       " 75745.25,\n",
       " 74604.375,\n",
       " 72447.36,\n",
       " 74176.53,\n",
       " 72340.375,\n",
       " 73641.74,\n",
       " 70878.6,\n",
       " 73303.02,\n",
       " 74818.29,\n",
       " 74853.945,\n",
       " 78062.73,\n",
       " 76654.42,\n",
       " 76101.79,\n",
       " 77937.94,\n",
       " 77492.29,\n",
       " 81057.6,\n",
       " 81253.71,\n",
       " 81449.8,\n",
       " 82537.21,\n",
       " 82305.46,\n",
       " 82198.5,\n",
       " 78561.88,\n",
       " 76832.68,\n",
       " 80184.11,\n",
       " 78900.58,\n",
       " 79791.914,\n",
       " 79239.28,\n",
       " 75299.625,\n",
       " 73891.31,\n",
       " 74800.46,\n",
       " 71519.81,\n",
       " 71859.18,\n",
       " 71126.84,\n",
       " 69090.56,\n",
       " 69304.93,\n",
       " 70823.195,\n",
       " 72752.305,\n",
       " 71037.555,\n",
       " 71644.85,\n",
       " 71805.62,\n",
       " 70823.2,\n",
       " 71287.6,\n",
       " 70037.27,\n",
       " 71198.305,\n",
       " 69930.09,\n",
       " 70912.516,\n",
       " 72037.82,\n",
       " 74752.86,\n",
       " 74181.27,\n",
       " 72341.47,\n",
       " 72841.61,\n",
       " 73180.99,\n",
       " 73573.97,\n",
       " 73038.1,\n",
       " 70876.77,\n",
       " 70769.62,\n",
       " 66893.54,\n",
       " 67965.26,\n",
       " 72698.7,\n",
       " 76003.195,\n",
       " 74842.17,\n",
       " 85702.32,\n",
       " 86666.875,\n",
       " 83737.5,\n",
       " 81058.19,\n",
       " 81576.18,\n",
       " 84844.93,\n",
       " 87256.32,\n",
       " 84166.22,\n",
       " 83844.67,\n",
       " 81415.445,\n",
       " 82290.67,\n",
       " 82880.125,\n",
       " 82147.77,\n",
       " 82790.8,\n",
       " 79807.836,\n",
       " 80236.53,\n",
       " 82219.21,\n",
       " 82844.41,\n",
       " 81808.41,\n",
       " 80415.16,\n",
       " 79718.53,\n",
       " 79557.77,\n",
       " 78253.83,\n",
       " 79682.8,\n",
       " 80450.87,\n",
       " 82201.35,\n",
       " 82719.37,\n",
       " 81272.53,\n",
       " 80718.82,\n",
       " 78636.64,\n",
       " 77223.14,\n",
       " 78225.1,\n",
       " 78672.4,\n",
       " 78958.664,\n",
       " 77903.016]"
      ]
     },
     "execution_count": 26,
     "metadata": {},
     "output_type": "execute_result"
    }
   ],
   "source": [
    "follow_winner_values = environment_test._asset_memory[\"final\"]\n",
    "follow_winner_values"
   ]
  },
  {
   "cell_type": "code",
   "execution_count": 34,
   "metadata": {},
   "outputs": [],
   "source": [
    "import matplotlib.pyplot as plt\n",
    "\n",
    "plt.plot(eiie_values, \"tab:blue\", label=\"EIIE Conv\")\n",
    "plt.plot(best_stock_values, \"tab:green\", label=\"Best Stock\")\n",
    "plt.plot(follow_loser_values, \"tab:red\", label=\"Follow the Loser\")\n",
    "plt.plot(ubah_values, \"tab:orange\", label=\"Uniform Buy & Hold\")\n",
    "plt.plot(follow_winner_values, \"tab:purple\", label=\"Follow the Winner\")\n",
    "plt.title(\"Portfolio Value Over Time in 2020\")\n",
    "plt.legend()\n",
    "plt.xticks(\n",
    "    np.round(np.linspace(0, len(eiie_values) - 1, 10))\n",
    ")\n",
    "plt.xlabel(\"Trading Days\")\n",
    "plt.ylabel(\"Portfolio Value\")\n",
    "plt.savefig(\"comparison.png\", bbox_inches=\"tight\")\n",
    "plt.close()"
   ]
  }
 ],
 "metadata": {
  "kernelspec": {
   "display_name": "finrl",
   "language": "python",
   "name": "python3"
  },
  "language_info": {
   "codemirror_mode": {
    "name": "ipython",
    "version": 3
   },
   "file_extension": ".py",
   "mimetype": "text/x-python",
   "name": "python",
   "nbconvert_exporter": "python",
   "pygments_lexer": "ipython3",
   "version": "3.10.13"
  }
 },
 "nbformat": 4,
 "nbformat_minor": 2
}
